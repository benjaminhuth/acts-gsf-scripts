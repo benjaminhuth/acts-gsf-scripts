{
 "cells": [
  {
   "cell_type": "code",
   "execution_count": 1,
   "id": "88863673-d60f-4695-89d3-daf8b00acf07",
   "metadata": {},
   "outputs": [],
   "source": [
    "import matplotlib.pyplot as plt\n",
    "import numpy as np"
   ]
  },
  {
   "cell_type": "code",
   "execution_count": 29,
   "id": "56bf0019-d15a-4ff3-85db-b74d6c58c75d",
   "metadata": {},
   "outputs": [],
   "source": [
    "data = np.random.normal(0,1,10000)"
   ]
  },
  {
   "cell_type": "code",
   "execution_count": 34,
   "id": "2d50e16e-2580-4199-902c-f6c1f99493a0",
   "metadata": {},
   "outputs": [
    {
     "data": {
      "image/png": "[encoded data removed]",
      "text/plain": [
       "<Figure size 432x288 with 1 Axes>"
      ]
     },
     "metadata": {
      "needs_background": "light"
     },
     "output_type": "display_data"
    }
   ],
   "source": [
    "_ = plt.hist(data, edgecolor='black', linewidth=1.2)"
   ]
  },
  {
   "cell_type": "code",
   "execution_count": 35,
   "id": "72e5b423-97c5-4e8f-989b-e1b731ed9fb6",
   "metadata": {},
   "outputs": [
    {
     "name": "stdout",
     "output_type": "stream",
     "text": [
      "[-10.          -1.77827941  -0.31622777  -0.05623413  -0.01\n",
      "   0.01         0.05623413   0.31622777   1.77827941  10.        ]\n"
     ]
    },
    {
     "data": {
      "image/png": "[encoded data removed]",
      "text/plain": [
       "<Figure size 432x288 with 1 Axes>"
      ]
     },
     "metadata": {
      "needs_background": "light"
     },
     "output_type": "display_data"
    }
   ],
   "source": [
    "fig, ax = plt.subplots()\n",
    "\n",
    "bins = 16\n",
    "bins = np.logspace(np.log10(0.01), np.log10(10), 5, base=10)\n",
    "\n",
    "bins = np.concatenate([ -1*np.flip(bins), bins ])\n",
    "print(bins)\n",
    "\n",
    "ax.hist(data, bins=bins, edgecolor='black', linewidth=1.2)\n",
    "ax.set_xscale('symlog', linthresh=0.01)\n",
    "#ax.set_xscale('log')\n",
    "ax.set_yscale('log')"
   ]
  },
  {
   "cell_type": "code",
   "execution_count": null,
   "id": "db912e65-ff81-4c57-baf6-3dd377fe7e4a",
   "metadata": {},
   "outputs": [],
   "source": []
  }
 ],
 "metadata": {
  "kernelspec": {
   "display_name": "Python 3",
   "language": "python",
   "name": "python3"
  },
  "language_info": {
   "codemirror_mode": {
    "name": "ipython",
    "version": 3
   },
   "file_extension": ".py",
   "mimetype": "text/x-python",
   "name": "python",
   "nbconvert_exporter": "python",
   "pygments_lexer": "ipython3",
   "version": "3.11.1"
  }
 },
 "nbformat": 4,
 "nbformat_minor": 5
}
