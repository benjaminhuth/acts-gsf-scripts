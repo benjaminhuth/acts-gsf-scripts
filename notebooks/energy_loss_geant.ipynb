{
 "cells": [
  {
   "cell_type": "code",
   "execution_count": 34,
   "id": "0ca26d7b-1289-4972-be71-7d7a73e8158e",
   "metadata": {},
   "outputs": [],
   "source": [
    "import glob\n",
    "\n",
    "import pandas as pd\n",
    "import numpy as np\n",
    "import matplotlib.pyplot as plt"
   ]
  },
  {
   "cell_type": "code",
   "execution_count": 35,
   "id": "747503d2-2013-4e63-adac-7e44b4f34e4d",
   "metadata": {},
   "outputs": [],
   "source": [
    "def energy_loss_particle(particle_hits):\n",
    "    r = np.hypot(particle_hits.tx, particle_hits.ty)\n",
    "    idxs = np.argsort(r)\n",
    "    e = particle_hits.te.to_numpy()[idxs]\n",
    "    return e[0] - e[-1]\n",
    "    \n",
    "def energy_loss_event(event_hits, event_particles):\n",
    "    return [ energy_loss_particle(hits) for pid, hits in event_hits.groupby(\"particle_id\") if event_particles.iloc[pid].vx == 0.0 ]"
   ]
  },
  {
   "cell_type": "code",
   "execution_count": 36,
   "id": "556aef85-cfc7-46dc-ab37-dfe42ec8d1f4",
   "metadata": {},
   "outputs": [],
   "source": [
    "event_particles = [ pd.read_csv(file, index_col='particle_id') for file in glob.glob(\"csv/event*-particles_initial.csv\") ]\n",
    "event_hits = [ pd.read_csv(file) for file in glob.glob(\"csv/event*-hits.csv\") ]"
   ]
  },
  {
   "cell_type": "code",
   "execution_count": 37,
   "id": "17f68825-dab5-4dea-97f8-57c25e3d93c5",
   "metadata": {},
   "outputs": [
    {
     "data": {
      "text/html": [
       "<div>\n",
       "<style scoped>\n",
       "    .dataframe tbody tr th:only-of-type {\n",
       "        vertical-align: middle;\n",
       "    }\n",
       "\n",
       "    .dataframe tbody tr th {\n",
       "        vertical-align: top;\n",
       "    }\n",
       "\n",
       "    .dataframe thead th {\n",
       "        text-align: right;\n",
       "    }\n",
       "</style>\n",
       "<table border=\"1\" class=\"dataframe\">\n",
       "  <thead>\n",
       "    <tr style=\"text-align: right;\">\n",
       "      <th></th>\n",
       "      <th>0</th>\n",
       "      <th>1</th>\n",
       "      <th>2</th>\n",
       "      <th>3</th>\n",
       "      <th>4</th>\n",
       "      <th>5</th>\n",
       "      <th>6</th>\n",
       "      <th>7</th>\n",
       "      <th>8</th>\n",
       "      <th>9</th>\n",
       "      <th>...</th>\n",
       "      <th>14</th>\n",
       "      <th>15</th>\n",
       "      <th>16</th>\n",
       "      <th>17</th>\n",
       "      <th>18</th>\n",
       "      <th>19</th>\n",
       "      <th>20</th>\n",
       "      <th>21</th>\n",
       "      <th>22</th>\n",
       "      <th>23</th>\n",
       "    </tr>\n",
       "  </thead>\n",
       "  <tbody>\n",
       "    <tr>\n",
       "      <th>0</th>\n",
       "      <td>-211</td>\n",
       "      <td>-11</td>\n",
       "      <td>11</td>\n",
       "      <td>22</td>\n",
       "      <td>211</td>\n",
       "      <td>2112</td>\n",
       "      <td>2212</td>\n",
       "      <td>1000010020</td>\n",
       "      <td>1000010030</td>\n",
       "      <td>1000020040</td>\n",
       "      <td>...</td>\n",
       "      <td>1000120259</td>\n",
       "      <td>1000120260</td>\n",
       "      <td>1000130240</td>\n",
       "      <td>1000130260</td>\n",
       "      <td>1000130269</td>\n",
       "      <td>1000130270</td>\n",
       "      <td>1000140270</td>\n",
       "      <td>1000140280</td>\n",
       "      <td>1000140290</td>\n",
       "      <td>1000140300</td>\n",
       "    </tr>\n",
       "    <tr>\n",
       "      <th>1</th>\n",
       "      <td>4</td>\n",
       "      <td>26370</td>\n",
       "      <td>463340</td>\n",
       "      <td>595315</td>\n",
       "      <td>2</td>\n",
       "      <td>29</td>\n",
       "      <td>122</td>\n",
       "      <td>1</td>\n",
       "      <td>1</td>\n",
       "      <td>7</td>\n",
       "      <td>...</td>\n",
       "      <td>2</td>\n",
       "      <td>5</td>\n",
       "      <td>1</td>\n",
       "      <td>7</td>\n",
       "      <td>3</td>\n",
       "      <td>91</td>\n",
       "      <td>5</td>\n",
       "      <td>83</td>\n",
       "      <td>6</td>\n",
       "      <td>2</td>\n",
       "    </tr>\n",
       "  </tbody>\n",
       "</table>\n",
       "<p>2 rows × 24 columns</p>\n",
       "</div>"
      ],
      "text/plain": [
       "    0      1       2       3    4     5     6           7           8   \\\n",
       "0 -211    -11      11      22  211  2112  2212  1000010020  1000010030   \n",
       "1    4  26370  463340  595315    2    29   122           1           1   \n",
       "\n",
       "           9   ...          14          15          16          17  \\\n",
       "0  1000020040  ...  1000120259  1000120260  1000130240  1000130260   \n",
       "1           7  ...           2           5           1           7   \n",
       "\n",
       "           18          19          20          21          22          23  \n",
       "0  1000130269  1000130270  1000140270  1000140280  1000140290  1000140300  \n",
       "1           3          91           5          83           6           2  \n",
       "\n",
       "[2 rows x 24 columns]"
      ]
     },
     "execution_count": 37,
     "metadata": {},
     "output_type": "execute_result"
    }
   ],
   "source": [
    "pd.DataFrame(np.vstack([*np.unique(sum([p.particle_type.tolist() for p in event_particles], []), return_counts=True)]))"
   ]
  },
  {
   "cell_type": "code",
   "execution_count": 45,
   "id": "7728286f-33d3-49f1-8a40-cab60e3f977c",
   "metadata": {},
   "outputs": [
    {
     "data": {
      "text/plain": [
       "Text(0.5, 1.0, '50k 4 GeV electrons - 100 surfaces telescope')"
      ]
     },
     "execution_count": 45,
     "metadata": {},
     "output_type": "execute_result"
    },
    {
     "data": {
      "image/png": "[encoded data removed]",
      "text/plain": [
       "<Figure size 640x480 with 1 Axes>"
      ]
     },
     "metadata": {},
     "output_type": "display_data"
    }
   ],
   "source": [
    "_ = plt.hist(sum([ energy_loss_event(hits, particles) for hits, particles in zip(event_hits, event_particles) ], []), bins='rice')\n",
    "#plt.yscale('log')\n",
    "plt.xlabel(\"energy loss [GeV]\")\n",
    "plt.title(\"50k 4 GeV electrons - 100 surfaces telescope\")\n",
    "#plt.yticks([1e2,1e3,1e4])"
   ]
  },
  {
   "cell_type": "code",
   "execution_count": 39,
   "id": "96337501-093f-4c7c-8430-b1e1473ad227",
   "metadata": {},
   "outputs": [
    {
     "data": {
      "text/plain": [
       "Text(0.5, 0, 'energy [GeV]')"
      ]
     },
     "execution_count": 39,
     "metadata": {},
     "output_type": "execute_result"
    },
    {
     "data": {
      "image/png": "[encoded data removed]",
      "text/plain": [
       "<Figure size 640x480 with 1 Axes>"
      ]
     },
     "metadata": {},
     "output_type": "display_data"
    }
   ],
   "source": [
    "_ = plt.hist(sum([ [ np.sqrt(p.px**2 + p.py**2 + p.pz**2 + p.m**2) for i, p in ps.iterrows() if p.vx == 0.0 ] for ps in event_particles ], []),\n",
    "             bins=np.linspace(3.95,4.05,19))\n",
    "plt.xlabel(\"energy [GeV]\")"
   ]
  },
  {
   "cell_type": "code",
   "execution_count": 40,
   "id": "e50499dd-6be9-4471-b7ea-be36eb9380f2",
   "metadata": {},
   "outputs": [
    {
     "data": {
      "text/plain": [
       "array([3.95  , 3.9625, 3.975 , 3.9875, 4.    , 4.0125, 4.025 , 4.0375,\n",
       "       4.05  ])"
      ]
     },
     "execution_count": 40,
     "metadata": {},
     "output_type": "execute_result"
    }
   ],
   "source": [
    "np.linspace(3.95,4.05,9)"
   ]
  },
  {
   "cell_type": "code",
   "execution_count": null,
   "id": "6e5fbd76-62dd-48e6-8892-e07ec59ed095",
   "metadata": {},
   "outputs": [],
   "source": []
  }
 ],
 "metadata": {
  "kernelspec": {
   "display_name": "Python 3 (ipykernel)",
   "language": "python",
   "name": "python3"
  },
  "language_info": {
   "codemirror_mode": {
    "name": "ipython",
    "version": 3
   },
   "file_extension": ".py",
   "mimetype": "text/x-python",
   "name": "python",
   "nbconvert_exporter": "python",
   "pygments_lexer": "ipython3",
   "version": "3.11.0"
  }
 },
 "nbformat": 4,
 "nbformat_minor": 5
}
