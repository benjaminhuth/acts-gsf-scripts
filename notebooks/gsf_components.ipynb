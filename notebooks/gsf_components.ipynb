{
 "cells": [
  {
   "cell_type": "code",
   "execution_count": 1,
   "id": "192b7a40-20ee-4457-8c01-d89ed4dfef8b",
   "metadata": {},
   "outputs": [],
   "source": [
    "import uproot\n",
    "import pandas as pd\n",
    "import numpy as np\n",
    "import analysis\n",
    "from pathlib import Path\n",
    "import awkward as ak"
   ]
  },
  {
   "cell_type": "code",
   "execution_count": 2,
   "id": "ba0008b4-3c7c-495b-8486-4c64a669530a",
   "metadata": {},
   "outputs": [],
   "source": [
    "inputDir = Path(\"../output/odd_g4_n20_4GeV/\")\n",
    "\n",
    "summary_gsf_root = uproot.open(str(inputDir / \"root/tracksummary_gsf.root:tracksummary\"))\n",
    "states_gsf_root = uproot.open(str(inputDir / \"root/trackstates_gsf.root:trackstates\"))\n",
    "\n",
    "summary_kf_root = uproot.open(str(inputDir / \"root/tracksummary_kf.root:tracksummary\"))\n",
    "states_kf_root = uproot.open(str(inputDir / \"root/trackstates_kf.root:trackstates\"))"
   ]
  },
  {
   "cell_type": "code",
   "execution_count": 3,
   "id": "c5001913-e2f6-4542-b680-85f7c73c060d",
   "metadata": {},
   "outputs": [],
   "source": [
    "a, b = analysis.uproot_to_pandas(summary_gsf_root, states_gsf_root)"
   ]
  },
  {
   "cell_type": "code",
   "execution_count": null,
   "id": "55d65448-2ed2-40da-a54c-1f36d39d122f",
   "metadata": {},
   "outputs": [],
   "source": [
    "import matplotlib.pyplot as plt\n",
    "from scipy.stats import norm"
   ]
  },
  {
   "cell_type": "code",
   "execution_count": null,
   "id": "f132711f-a400-4c6e-8b65-7849bdadbfe0",
   "metadata": {},
   "outputs": [
    {
     "ename": "NameError",
     "evalue": "name 'c' is not defined",
     "output_type": "error",
     "traceback": [
      "\u001b[0;31m---------------------------------------------------------------------------\u001b[0m",
      "\u001b[0;31mNameError\u001b[0m                                 Traceback (most recent call last)",
      "Cell \u001b[0;32mIn [8], line 1\u001b[0m\n\u001b[0;32m----> 1\u001b[0m e \u001b[38;5;241m=\u001b[39m c\u001b[38;5;241m.\u001b[39mloc[(\u001b[38;5;241m0\u001b[39m,\u001b[38;5;241m0\u001b[39m),(\u001b[38;5;124m\"\u001b[39m\u001b[38;5;124mgsf_cmps_weights_flt\u001b[39m\u001b[38;5;124m\"\u001b[39m, \u001b[38;5;124m\"\u001b[39m\u001b[38;5;124mgsf_cmps_eQOP_flt\u001b[39m\u001b[38;5;124m\"\u001b[39m, \u001b[38;5;124m\"\u001b[39m\u001b[38;5;124mgsf_cmps_err_eQOP_flt\u001b[39m\u001b[38;5;124m\"\u001b[39m)]\n\u001b[1;32m      2\u001b[0m e\u001b[38;5;241m.\u001b[39mhead(\u001b[38;5;241m9\u001b[39m)\n",
      "\u001b[0;31mNameError\u001b[0m: name 'c' is not defined"
     ]
    }
   ],
   "source": [
    "e = c.loc[(0,0),(\"gsf_cmps_weights_flt\", \"gsf_cmps_eQOP_flt\", \"gsf_cmps_err_eQOP_flt\")]\n",
    "e.head(9)"
   ]
  },
  {
   "cell_type": "code",
   "execution_count": null,
   "id": "9a43ca40-b427-4562-aebb-24a0ffdf4a8b",
   "metadata": {},
   "outputs": [
    {
     "ename": "NameError",
     "evalue": "name 'e' is not defined",
     "output_type": "error",
     "traceback": [
      "\u001b[0;31m---------------------------------------------------------------------------\u001b[0m",
      "\u001b[0;31mNameError\u001b[0m                                 Traceback (most recent call last)",
      "Cell \u001b[0;32mIn [13], line 1\u001b[0m\n\u001b[0;32m----> 1\u001b[0m \u001b[38;5;28mlen\u001b[39m(np\u001b[38;5;241m.\u001b[39munique(e\u001b[38;5;241m.\u001b[39mindex\u001b[38;5;241m.\u001b[39mget_level_values(\u001b[38;5;241m0\u001b[39m)))\n",
      "\u001b[0;31mNameError\u001b[0m: name 'e' is not defined"
     ]
    }
   ],
   "source": [
    "len(np.unique(e.index.get_level_values(0)))"
   ]
  },
  {
   "cell_type": "code",
   "execution_count": null,
   "id": "b3058158-f5e7-409e-bc26-189d81d8cf01",
   "metadata": {},
   "outputs": [],
   "source": [
    "arr = e.to_numpy()\n",
    "\n",
    "sum(arr[:,0])"
   ]
  },
  {
   "cell_type": "code",
   "execution_count": null,
   "id": "88d19ab0-ad7c-43fa-9e1b-0d34561efcb0",
   "metadata": {},
   "outputs": [],
   "source": [
    "class Mixture:\n",
    "    def __init__(self, array):\n",
    "        self.array = array\n",
    "        assert abs( sum(array[:,0]) - 1.0 ) < 1e-4\n",
    "        assert (array[:,2] > 0).all()\n",
    "        \n",
    "    def __call__(self, x):\n",
    "        return sum([ w * norm.pdf(x, mu, sigma) for (w, mu, sigma) in self.array ], 0.0)"
   ]
  },
  {
   "cell_type": "code",
   "execution_count": null,
   "id": "3091c99c-99ba-4b60-951e-a9bb9571a0ce",
   "metadata": {},
   "outputs": [],
   "source": [
    "x = np.linspace(-1,0,200)\n",
    "\n",
    "m = Mixture(e.to_numpy())"
   ]
  },
  {
   "cell_type": "code",
   "execution_count": null,
   "id": "24bdff84-4ff9-4a1f-83c2-102f3fdf7c05",
   "metadata": {},
   "outputs": [],
   "source": [
    "track = 153\n",
    "\n",
    "n_states = len(np.unique(e.index.get_level_values(0)))\n",
    "\n",
    "fig, axes = plt.subplots(3,3,figsize=(20,10))\n",
    "\n",
    "for i, ax in zip(range(n_states), axes.flatten()):\n",
    "    s = c.loc[(0,track,i),(\"gsf_cmps_weights_flt\", \"gsf_cmps_eQOP_flt\", \"gsf_cmps_err_eQOP_flt\")]\n",
    "    m = Mixture(s.to_numpy())\n",
    "    ax.plot(x, m(x))\n",
    "    ax.set_title(f\"state {i}\")"
   ]
  },
  {
   "cell_type": "code",
   "execution_count": null,
   "id": "98e3e562-67bb-429b-919c-b6a7be071ee5",
   "metadata": {},
   "outputs": [],
   "source": []
  }
 ],
 "metadata": {
  "kernelspec": {
   "display_name": "Python 3",
   "language": "python",
   "name": "python3"
  },
  "language_info": {
   "codemirror_mode": {
    "name": "ipython",
    "version": 3
   },
   "file_extension": ".py",
   "mimetype": "text/x-python",
   "name": "python",
   "nbconvert_exporter": "python",
   "pygments_lexer": "ipython3",
   "version": "3.11.2"
  }
 },
 "nbformat": 4,
 "nbformat_minor": 5
}
