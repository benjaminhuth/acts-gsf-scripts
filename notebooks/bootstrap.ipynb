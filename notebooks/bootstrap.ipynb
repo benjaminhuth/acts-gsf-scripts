{
 "cells": [
  {
   "cell_type": "code",
   "execution_count": 8,
   "id": "f4b98ffe-35f2-49d2-9e35-fda4126ff0a0",
   "metadata": {},
   "outputs": [],
   "source": [
    "import json\n",
    "from pprint import pprint\n",
    "from pathlib import Path"
   ]
  },
  {
   "cell_type": "code",
   "execution_count": 9,
   "id": "b9e4a525-796f-47b2-adf1-301e9a57188f",
   "metadata": {},
   "outputs": [],
   "source": [
    "import pandas as pd\n",
    "import numpy as np\n",
    "import matplotlib.pyplot as plt\n",
    "import uproot\n",
    "from scipy.stats import bootstrap, norm"
   ]
  },
  {
   "cell_type": "code",
   "execution_count": 10,
   "id": "1bfbfa74-a13c-4e6e-93f6-d5cfdee8e401",
   "metadata": {},
   "outputs": [],
   "source": [
    "from gsfanalysis.pandas_import import uproot_to_pandas"
   ]
  },
  {
   "cell_type": "code",
   "execution_count": 14,
   "id": "831ff416-cfa2-4e48-8127-c42a2a79a1a0",
   "metadata": {},
   "outputs": [],
   "source": [
    "input_dir = Path(\"../test_12cmp_smeared//\")"
   ]
  },
  {
   "cell_type": "code",
   "execution_count": 15,
   "id": "ecb7674a-c1a8-4388-af8c-cf618ccc0d96",
   "metadata": {},
   "outputs": [
    {
     "data": {
      "text/plain": [
       "9950"
      ]
     },
     "execution_count": 15,
     "metadata": {},
     "output_type": "execute_result"
    }
   ],
   "source": [
    "summary_short = uproot_to_pandas(uproot.open(str(input_dir / \"root/tracksummary_gsf.root:tracksummary\")))\n",
    "len(summary_short)"
   ]
  },
  {
   "cell_type": "code",
   "execution_count": 16,
   "id": "46325dc7-0bb6-4883-8314-b72cc400b346",
   "metadata": {},
   "outputs": [],
   "source": [
    "stat = np.std"
   ]
  },
  {
   "cell_type": "code",
   "execution_count": 17,
   "id": "b0af9eab-edef-44d2-a723-9587c2b9840e",
   "metadata": {},
   "outputs": [],
   "source": [
    "def plot(dist, sample_mean, standard_error, confidence_interval=None, confidence_level=None):\n",
    "    x = np.linspace(sample_mean + 4*standard_error, sample_mean - 4*standard_error)\n",
    "    pdf = norm.pdf(x, loc=sample_mean, scale=standard_error)\n",
    "\n",
    "    fig, ax = plt.subplots()\n",
    "    ax.hist(dist, bins=25, density=True)\n",
    "    ax.plot(x, pdf, label=\"µ={:.2f}, σ={:.4f}\".format(sample_mean, standard_error), lw=5)\n",
    "    ax.set_xlabel(stat.__name__)\n",
    "    ax.set_ylabel('pdf')\n",
    "    \n",
    "    ymax = ax.get_ylim()[1]\n",
    "\n",
    "    ax.vlines([sample_mean], ymin=0, ymax=ymax, color=\"tab:orange\", lw=3, label=\"mean {:.3f}\".format(sample_mean))\n",
    "    ax.vlines([sample_mean + standard_error, sample_mean - standard_error], ymin=0, ymax=ymax, color=\"tab:orange\", ls=\"--\", label=\"standard error {:.3f}\".format(standard_error))\n",
    "    \n",
    "    if not (confidence_interval is None or confidence_level is None):\n",
    "        ax.vlines(confidence_interval, ymin=0, ymax=ymax, color=\"tab:orange\", ls=\":\", label=\"confidence interval {:.1%}\".format(confidence_level))\n",
    "        \n",
    "    ax.set_ylim(0, ax.get_ylim()[1]*1.3)\n",
    "\n",
    "    ax.legend()"
   ]
  },
  {
   "cell_type": "code",
   "execution_count": 18,
   "id": "5aaa9c03-9877-4f7e-84a0-160f03d8be06",
   "metadata": {},
   "outputs": [],
   "source": [
    "with open(input_dir / \"config.json\") as f:\n",
    "    config = json.load(f)\n",
    "    \n",
    "#pprint(config)"
   ]
  },
  {
   "cell_type": "code",
   "execution_count": 19,
   "id": "f48b58c8-57d9-4d17-8753-f0879fe6dcc4",
   "metadata": {},
   "outputs": [
    {
     "data": {
      "text/plain": [
       "(0.045079242,\n",
       " ConfidenceInterval(low=0.10728545348341159, high=0.32397964458086975))"
      ]
     },
     "execution_count": 19,
     "metadata": {},
     "output_type": "execute_result"
    }
   ],
   "source": [
    "conv_level = 0.95\n",
    "res = bootstrap((summary_short[\"res_eQOP_fit\"].to_numpy(),), stat, confidence_level=conv_level)\n",
    "res.standard_error, res.confidence_interval"
   ]
  },
  {
   "cell_type": "code",
   "execution_count": 20,
   "id": "d926db7a-62d1-49ba-8429-03d5783bc7c0",
   "metadata": {},
   "outputs": [
    {
     "data": {
      "image/png": "[encoded data removed]",
      "text/plain": [
       "<Figure size 432x288 with 1 Axes>"
      ]
     },
     "metadata": {
      "needs_background": "light"
     },
     "output_type": "display_data"
    }
   ],
   "source": [
    "sample_mean = stat(summary_short[\"res_eQOP_fit\"])\n",
    "\n",
    "plot(res.bootstrap_distribution, sample_mean, res.standard_error, res.confidence_interval, conv_level)"
   ]
  },
  {
   "cell_type": "code",
   "execution_count": null,
   "id": "2e7d3add-051f-4bb9-9ee8-2f6c40e1954a",
   "metadata": {},
   "outputs": [],
   "source": []
  },
  {
   "cell_type": "code",
   "execution_count": null,
   "id": "fd749e2e-5053-4cd9-8b18-cd9dc508341d",
   "metadata": {},
   "outputs": [],
   "source": []
  }
 ],
 "metadata": {
  "kernelspec": {
   "display_name": "Python 3",
   "language": "python",
   "name": "python3"
  },
  "language_info": {
   "codemirror_mode": {
    "name": "ipython",
    "version": 3
   },
   "file_extension": ".py",
   "mimetype": "text/x-python",
   "name": "python",
   "nbconvert_exporter": "python",
   "pygments_lexer": "ipython3",
   "version": "3.11.2"
  }
 },
 "nbformat": 4,
 "nbformat_minor": 5
}
