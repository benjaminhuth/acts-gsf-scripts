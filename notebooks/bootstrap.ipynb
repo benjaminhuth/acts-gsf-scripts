{
 "cells": [
  {
   "cell_type": "code",
   "execution_count": 86,
   "id": "f4b98ffe-35f2-49d2-9e35-fda4126ff0a0",
   "metadata": {},
   "outputs": [],
   "source": [
    "import json\n",
    "from pprint import pprint\n",
    "from pathlib import Path"
   ]
  },
  {
   "cell_type": "code",
   "execution_count": 87,
   "id": "b9e4a525-796f-47b2-adf1-301e9a57188f",
   "metadata": {},
   "outputs": [],
   "source": [
    "import pandas as pd\n",
    "import numpy as np\n",
    "import matplotlib.pyplot as plt\n",
    "import uproot\n",
    "from scipy.stats import bootstrap, norm"
   ]
  },
  {
   "cell_type": "code",
   "execution_count": 88,
   "id": "1bfbfa74-a13c-4e6e-93f6-d5cfdee8e401",
   "metadata": {},
   "outputs": [],
   "source": [
    "from gsfanalysis.pandas_import import uproot_to_pandas"
   ]
  },
  {
   "cell_type": "code",
   "execution_count": 89,
   "id": "831ff416-cfa2-4e48-8127-c42a2a79a1a0",
   "metadata": {},
   "outputs": [],
   "source": [
    "input_dir = Path(\"../output/odd_g4_n10_05_20GeV_12cmps_smeared\")"
   ]
  },
  {
   "cell_type": "code",
   "execution_count": 90,
   "id": "ecb7674a-c1a8-4388-af8c-cf618ccc0d96",
   "metadata": {},
   "outputs": [
    {
     "data": {
      "text/html": [
       "<div>\n",
       "<style scoped>\n",
       "    .dataframe tbody tr th:only-of-type {\n",
       "        vertical-align: middle;\n",
       "    }\n",
       "\n",
       "    .dataframe tbody tr th {\n",
       "        vertical-align: top;\n",
       "    }\n",
       "\n",
       "    .dataframe thead th {\n",
       "        text-align: right;\n",
       "    }\n",
       "</style>\n",
       "<table border=\"1\" class=\"dataframe\">\n",
       "  <thead>\n",
       "    <tr style=\"text-align: right;\">\n",
       "      <th></th>\n",
       "      <th>event_nr</th>\n",
       "      <th>multiTraj_nr</th>\n",
       "      <th>nStates</th>\n",
       "      <th>nMeasurements</th>\n",
       "      <th>nOutliers</th>\n",
       "      <th>nHoles</th>\n",
       "      <th>nSharedHits</th>\n",
       "      <th>chi2Sum</th>\n",
       "      <th>NDF</th>\n",
       "      <th>nMajorityHits</th>\n",
       "      <th>majorityParticleId</th>\n",
       "      <th>t_charge</th>\n",
       "      <th>t_time</th>\n",
       "      <th>t_vx</th>\n",
       "      <th>t_vy</th>\n",
       "      <th>t_vz</th>\n",
       "      <th>t_px</th>\n",
       "      <th>t_py</th>\n",
       "      <th>t_pz</th>\n",
       "      <th>t_theta</th>\n",
       "      <th>t_phi</th>\n",
       "      <th>t_eta</th>\n",
       "      <th>t_p</th>\n",
       "      <th>t_pT</th>\n",
       "      <th>t_d0</th>\n",
       "      <th>t_z0</th>\n",
       "      <th>hasFittedParams</th>\n",
       "      <th>eLOC0_fit</th>\n",
       "      <th>eLOC1_fit</th>\n",
       "      <th>ePHI_fit</th>\n",
       "      <th>eTHETA_fit</th>\n",
       "      <th>eQOP_fit</th>\n",
       "      <th>eT_fit</th>\n",
       "      <th>err_eLOC0_fit</th>\n",
       "      <th>err_eLOC1_fit</th>\n",
       "      <th>err_ePHI_fit</th>\n",
       "      <th>err_eTHETA_fit</th>\n",
       "      <th>err_eQOP_fit</th>\n",
       "      <th>err_eT_fit</th>\n",
       "      <th>res_eLOC0_fit</th>\n",
       "      <th>res_eLOC1_fit</th>\n",
       "      <th>res_ePHI_fit</th>\n",
       "      <th>res_eTHETA_fit</th>\n",
       "      <th>res_eQOP_fit</th>\n",
       "      <th>res_eT_fit</th>\n",
       "      <th>pull_eLOC0_fit</th>\n",
       "      <th>pull_eLOC1_fit</th>\n",
       "      <th>pull_ePHI_fit</th>\n",
       "      <th>pull_eTHETA_fit</th>\n",
       "      <th>pull_eQOP_fit</th>\n",
       "      <th>pull_eT_fit</th>\n",
       "    </tr>\n",
       "  </thead>\n",
       "  <tbody>\n",
       "    <tr>\n",
       "      <th>0</th>\n",
       "      <td>0</td>\n",
       "      <td>0</td>\n",
       "      <td>26</td>\n",
       "      <td>2</td>\n",
       "      <td>10</td>\n",
       "      <td>1</td>\n",
       "      <td>0</td>\n",
       "      <td>11.642473</td>\n",
       "      <td>21</td>\n",
       "      <td>2</td>\n",
       "      <td>4503599644147712</td>\n",
       "      <td>-1</td>\n",
       "      <td>2051.255127</td>\n",
       "      <td>-0.006878</td>\n",
       "      <td>0.006443</td>\n",
       "      <td>26.299278</td>\n",
       "      <td>0.622633</td>\n",
       "      <td>0.928606</td>\n",
       "      <td>1.189748</td>\n",
       "      <td>0.754330</td>\n",
       "      <td>0.980142</td>\n",
       "      <td>0.926015</td>\n",
       "      <td>1.632630</td>\n",
       "      <td>1.118026</td>\n",
       "      <td>0.009424</td>\n",
       "      <td>26.299278</td>\n",
       "      <td>True</td>\n",
       "      <td>279.057220</td>\n",
       "      <td>113.663254</td>\n",
       "      <td>0.793448</td>\n",
       "      <td>0.753223</td>\n",
       "      <td>-0.221551</td>\n",
       "      <td>2294.090332</td>\n",
       "      <td>167.000244</td>\n",
       "      <td>121.296974</td>\n",
       "      <td>0.306730</td>\n",
       "      <td>0.017348</td>\n",
       "      <td>0.362057</td>\n",
       "      <td>3001.842773</td>\n",
       "      <td>279.047791</td>\n",
       "      <td>87.363976</td>\n",
       "      <td>-0.186695</td>\n",
       "      <td>-0.001106</td>\n",
       "      <td>0.390957</td>\n",
       "      <td>242.835205</td>\n",
       "      <td>1.670942</td>\n",
       "      <td>0.720249</td>\n",
       "      <td>-0.608662</td>\n",
       "      <td>-0.063776</td>\n",
       "      <td>1.079824</td>\n",
       "      <td>0.080895</td>\n",
       "    </tr>\n",
       "    <tr>\n",
       "      <th>1</th>\n",
       "      <td>0</td>\n",
       "      <td>1</td>\n",
       "      <td>28</td>\n",
       "      <td>13</td>\n",
       "      <td>0</td>\n",
       "      <td>2</td>\n",
       "      <td>0</td>\n",
       "      <td>158.130554</td>\n",
       "      <td>22</td>\n",
       "      <td>13</td>\n",
       "      <td>9007199271518208</td>\n",
       "      <td>-1</td>\n",
       "      <td>813.277100</td>\n",
       "      <td>0.019740</td>\n",
       "      <td>0.009593</td>\n",
       "      <td>-26.055830</td>\n",
       "      <td>12.212738</td>\n",
       "      <td>-0.598122</td>\n",
       "      <td>2.786611</td>\n",
       "      <td>1.346724</td>\n",
       "      <td>-0.048936</td>\n",
       "      <td>0.225971</td>\n",
       "      <td>12.540890</td>\n",
       "      <td>12.227376</td>\n",
       "      <td>0.021948</td>\n",
       "      <td>-26.055830</td>\n",
       "      <td>True</td>\n",
       "      <td>-0.009276</td>\n",
       "      <td>-26.038843</td>\n",
       "      <td>-0.048518</td>\n",
       "      <td>1.346999</td>\n",
       "      <td>-0.080204</td>\n",
       "      <td>930.938416</td>\n",
       "      <td>0.027749</td>\n",
       "      <td>0.023712</td>\n",
       "      <td>0.000415</td>\n",
       "      <td>0.000208</td>\n",
       "      <td>0.008356</td>\n",
       "      <td>2997.924561</td>\n",
       "      <td>-0.031223</td>\n",
       "      <td>0.016987</td>\n",
       "      <td>0.000418</td>\n",
       "      <td>0.000275</td>\n",
       "      <td>-0.000465</td>\n",
       "      <td>117.661316</td>\n",
       "      <td>-1.125191</td>\n",
       "      <td>0.716385</td>\n",
       "      <td>1.006986</td>\n",
       "      <td>1.319988</td>\n",
       "      <td>-0.055610</td>\n",
       "      <td>0.039248</td>\n",
       "    </tr>\n",
       "    <tr>\n",
       "      <th>2</th>\n",
       "      <td>0</td>\n",
       "      <td>2</td>\n",
       "      <td>27</td>\n",
       "      <td>13</td>\n",
       "      <td>0</td>\n",
       "      <td>1</td>\n",
       "      <td>0</td>\n",
       "      <td>29.876938</td>\n",
       "      <td>23</td>\n",
       "      <td>13</td>\n",
       "      <td>13510798898888704</td>\n",
       "      <td>-1</td>\n",
       "      <td>-245.630630</td>\n",
       "      <td>-0.030489</td>\n",
       "      <td>0.007543</td>\n",
       "      <td>-13.932940</td>\n",
       "      <td>3.217871</td>\n",
       "      <td>9.834952</td>\n",
       "      <td>1.936180</td>\n",
       "      <td>1.385828</td>\n",
       "      <td>1.254587</td>\n",
       "      <td>0.186032</td>\n",
       "      <td>10.527572</td>\n",
       "      <td>10.347994</td>\n",
       "      <td>0.031408</td>\n",
       "      <td>-13.932940</td>\n",
       "      <td>True</td>\n",
       "      <td>0.023518</td>\n",
       "      <td>-13.921064</td>\n",
       "      <td>1.254855</td>\n",
       "      <td>1.385932</td>\n",
       "      <td>-0.094330</td>\n",
       "      <td>-405.065002</td>\n",
       "      <td>0.016320</td>\n",
       "      <td>0.015429</td>\n",
       "      <td>0.000275</td>\n",
       "      <td>0.000193</td>\n",
       "      <td>0.007180</td>\n",
       "      <td>2997.924561</td>\n",
       "      <td>-0.007890</td>\n",
       "      <td>0.011876</td>\n",
       "      <td>0.000267</td>\n",
       "      <td>0.000104</td>\n",
       "      <td>0.000659</td>\n",
       "      <td>-159.434372</td>\n",
       "      <td>-0.483476</td>\n",
       "      <td>0.769747</td>\n",
       "      <td>0.973770</td>\n",
       "      <td>0.536725</td>\n",
       "      <td>0.091764</td>\n",
       "      <td>-0.053182</td>\n",
       "    </tr>\n",
       "  </tbody>\n",
       "</table>\n",
       "</div>"
      ],
      "text/plain": [
       "   event_nr  multiTraj_nr  nStates  ...  pull_eTHETA_fit  pull_eQOP_fit  pull_eT_fit\n",
       "0         0             0       26  ...        -0.063776       1.079824     0.080895\n",
       "1         0             1       28  ...         1.319988      -0.055610     0.039248\n",
       "2         0             2       27  ...         0.536725       0.091764    -0.053182\n",
       "\n",
       "[3 rows x 51 columns]"
      ]
     },
     "execution_count": 90,
     "metadata": {},
     "output_type": "execute_result"
    }
   ],
   "source": [
    "summary = uproot_to_pandas(uproot.open(str(input_dir / \"root/tracksummary_gsf.root:tracksummary\")))\n",
    "summary.head(3)"
   ]
  },
  {
   "cell_type": "code",
   "execution_count": 91,
   "id": "5aaa9c03-9877-4f7e-84a0-160f03d8be06",
   "metadata": {},
   "outputs": [
    {
     "name": "stdout",
     "output_type": "stream",
     "text": [
      "{'acts-commit-hash': '1b6362688',\n",
      " 'components': 12,\n",
      " 'cutoff': 0.0001,\n",
      " 'debug': False,\n",
      " 'detector': 'odd',\n",
      " 'disable_fatras_interactions': False,\n",
      " 'erroronly': False,\n",
      " 'events': 10,\n",
      " 'fatras': False,\n",
      " 'gsf': {'abortOnError': False,\n",
      "         'disableAllMaterialHandling': False,\n",
      "         'finalReductionMethod': 'FinalReductionMethod.maxWeight',\n",
      "         'high_bhapprox': '/home/benjamin/Documents/athena/Tracking/TrkFitter/TrkGaussianSumFilter/Data/GeantSim_GT01_cdf_nC6_O5.par',\n",
      "         'low_bhapprox': '/home/benjamin/Documents/athena/Tracking/TrkFitter/TrkGaussianSumFilter/Data/GeantSim_LT01_cdf_nC6_O5.par',\n",
      "         'maxComponents': 12,\n",
      "         'weightCutoff': 0.0001},\n",
      " 'jobs': 1,\n",
      " 'output': 'output/odd_g4_n10_05_20GeV_12cmps',\n",
      " 'particle_smearing': None,\n",
      " 'particles': 1000,\n",
      " 'pick': -1,\n",
      " 'plt_show': False,\n",
      " 'pmax': 20.0,\n",
      " 'pmin': 0.5,\n",
      " 'seeding': 'smeared',\n",
      " 'skip': 0,\n",
      " 'skip_analysis': False,\n",
      " 'smearing': 0.01,\n",
      " 'surfaces': 10,\n",
      " 'verbose': False}\n"
     ]
    }
   ],
   "source": [
    "with open(input_dir / \"config.json\") as f:\n",
    "    config = json.load(f)\n",
    "    \n",
    "pprint(config)"
   ]
  },
  {
   "cell_type": "code",
   "execution_count": 100,
   "id": "f48b58c8-57d9-4d17-8753-f0879fe6dcc4",
   "metadata": {},
   "outputs": [
    {
     "data": {
      "text/plain": [
       "(0.0032621727,\n",
       " ConfidenceInterval(low=-0.03718409348805675, high=-0.02413863090921037))"
      ]
     },
     "execution_count": 100,
     "metadata": {},
     "output_type": "execute_result"
    }
   ],
   "source": [
    "conv_level = 0.95\n",
    "res = bootstrap((summary[\"res_eQOP_fit\"].to_numpy(),), np.mean, confidence_level=conv_level)\n",
    "res.standard_error, res.confidence_interval"
   ]
  },
  {
   "cell_type": "code",
   "execution_count": 105,
   "id": "039e4824-bd6d-44bb-a06f-d792463ce743",
   "metadata": {},
   "outputs": [
    {
     "data": {
      "text/plain": [
       "0.32658931612968445"
      ]
     },
     "execution_count": 105,
     "metadata": {},
     "output_type": "execute_result"
    }
   ],
   "source": [
    "np.std(summary[\"res_eQOP_fit\"])"
   ]
  },
  {
   "cell_type": "code",
   "execution_count": 101,
   "id": "d926db7a-62d1-49ba-8429-03d5783bc7c0",
   "metadata": {},
   "outputs": [
    {
     "data": {
      "image/png": "[encoded data removed]",
      "text/plain": [
       "<Figure size 432x288 with 1 Axes>"
      ]
     },
     "metadata": {
      "needs_background": "light"
     },
     "output_type": "display_data"
    }
   ],
   "source": [
    "x = np.linspace(min(res.bootstrap_distribution), max(res.bootstrap_distribution))\n",
    "sample_mean = np.mean(summary[\"res_eQOP_fit\"])\n",
    "pdf = norm.pdf(x, loc=sample_mean, scale=res.standard_error)\n",
    "\n",
    "fig, ax = plt.subplots()\n",
    "ax.hist(res.bootstrap_distribution, bins=25, density=True)\n",
    "ax.plot(x, pdf, label=\"µ={:.2f}, σ={:.4f}\".format(sample_mean, res.standard_error), lw=5)\n",
    "ax.set_title('Normal Approximation of the Bootstrap Distribution')\n",
    "ax.set_xlabel('statistic value')\n",
    "ax.set_ylabel('pdf')\n",
    "\n",
    "ax.vlines([sample_mean], ymin=0, ymax=175, color=\"tab:orange\", lw=3, label=\"mean\")\n",
    "ax.vlines(res.confidence_interval, ymin=0, ymax=175, color=\"tab:orange\", ls=\":\", label=\"confidence interval {:.1%}\".format(conv_level))\n",
    "ax.vlines([sample_mean + res.standard_error, sample_mean - res.standard_error], ymin=0, ymax=175, color=\"tab:orange\", ls=\"--\", label=\"standard error\")\n",
    "\n",
    "ax.legend()\n",
    "plt.show()"
   ]
  },
  {
   "cell_type": "code",
   "execution_count": 103,
   "id": "b2388a0f-e010-4958-b4ea-b256d7efb74b",
   "metadata": {},
   "outputs": [],
   "source": [
    "num_samples = []\n",
    "conv_low = []\n",
    "conv_high = []\n",
    "means = []\n",
    "errors = []\n",
    "\n",
    "for max_event_nr in range(max(summary[\"event_nr\"])+1):\n",
    "    df = summary[ summary[\"event_nr\"] <= max_event_nr ]\n",
    "    \n",
    "    res = bootstrap((summary[\"res_eQOP_fit\"].to_numpy(),), np.mean)\n",
    "    \n",
    "    conv_low.append(res.confidence_interval.low)\n",
    "    conv_high.append(res.confidence_interval.high)\n",
    "    num_samples.append(len(df))\n",
    "    means.append(np.mean(summary[\"res_eQOP_fit\"]))\n",
    "    errors.append(res.standard_error)"
   ]
  },
  {
   "cell_type": "code",
   "execution_count": 104,
   "id": "b02a6963-7797-4972-988a-b9ff4e681712",
   "metadata": {},
   "outputs": [
    {
     "data": {
      "image/png": "[encoded data removed]",
      "text/plain": [
       "<Figure size 432x288 with 2 Axes>"
      ]
     },
     "metadata": {
      "needs_background": "light"
     },
     "output_type": "display_data"
    }
   ],
   "source": [
    "fig, ax = plt.subplots(1,2)\n",
    "ax[0].plot(num_samples, means)\n",
    "ax[0].set_title(\"res_eQOP_fit mean\")\n",
    "ax[0].fill_between(num_samples, conv_low, conv_high, color='b', alpha=.2)\n",
    "\n",
    "ax[1].plot(num_samples, errors)\n",
    "ax[1].set_title(\"res_eQOP_fit standard error\")\n",
    "\n",
    "fig.tight_layout()"
   ]
  },
  {
   "cell_type": "code",
   "execution_count": null,
   "id": "2e7d3add-051f-4bb9-9ee8-2f6c40e1954a",
   "metadata": {},
   "outputs": [],
   "source": []
  }
 ],
 "metadata": {
  "kernelspec": {
   "display_name": "Python 3",
   "language": "python",
   "name": "python3"
  },
  "language_info": {
   "codemirror_mode": {
    "name": "ipython",
    "version": 3
   },
   "file_extension": ".py",
   "mimetype": "text/x-python",
   "name": "python",
   "nbconvert_exporter": "python",
   "pygments_lexer": "ipython3",
   "version": "3.11.2"
  }
 },
 "nbformat": 4,
 "nbformat_minor": 5
}
