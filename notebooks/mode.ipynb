{
 "cells": [
  {
   "cell_type": "code",
   "execution_count": 1,
   "id": "910309d1-c14b-492b-9660-17ff83568129",
   "metadata": {},
   "outputs": [],
   "source": [
    "import math\n",
    "import numpy as np\n",
    "import matplotlib.pyplot as plt"
   ]
  },
  {
   "cell_type": "code",
   "execution_count": 2,
   "id": "e9ec20d4-95b2-4fdf-bac5-6a09d0f70ba0",
   "metadata": {},
   "outputs": [],
   "source": [
    "from gsfanalysis.statistics import mode as cxxmode"
   ]
  },
  {
   "cell_type": "code",
   "execution_count": 3,
   "id": "1877dba8-46ac-46f9-bc21-e45bb5a20ee0",
   "metadata": {},
   "outputs": [],
   "source": [
    "def histmode(data, tol=0.0001, max_iter=10):\n",
    "    mask = np.ones(len(data), dtype=np.bool)\n",
    "    \n",
    "    for _ in range(max_iter):\n",
    "        hist, bins = np.histogram(data[mask])\n",
    "        i = np.argmax(hist)\n",
    "        mode = 0.5 * (bins[i] + bins[i+1])\n",
    "        \n",
    "        if bins[i+1] - bins[i] <= tol or len(bins) == 2:\n",
    "            return mode\n",
    "        \n",
    "        mask = (data > bins[max(0,i-1)]) & (data < bins[min(i+2, len(bins)-1)])\n",
    "        \n",
    "    #print(\"Warning: mode accuracy is only: \", bins[i+1] - bins[i])\n",
    "    return mode"
   ]
  },
  {
   "cell_type": "code",
   "execution_count": 4,
   "id": "365e9ddd-a841-4b90-95d4-b6bf62d42cce",
   "metadata": {},
   "outputs": [],
   "source": [
    "def pymode(x):\n",
    "    #x = np.sort(x)\n",
    "    #print(\"len\",len(x),\"interval:\",x[0],x[-1])\n",
    "    if len(x) == 1:\n",
    "        return x[0]\n",
    "    elif len(x) == 2:\n",
    "        return 0.5*(x[0] + x[1])\n",
    "    elif len(x) == 3:\n",
    "        if x[2] - x[1] < x[1] - x[0]:\n",
    "            return 0.5*(x[2] + x[1])\n",
    "        elif x[2] - x[1] > x[1] - x[0]:\n",
    "            return 0.5*(x[1] + x[0])\n",
    "        else:\n",
    "            return x[1]\n",
    "    else:\n",
    "        wmin = x[-1] - x[0]\n",
    "        \n",
    "        if wmin == 0.0:\n",
    "            return x[0]\n",
    "        \n",
    "        #print(\"wmin\",wmin,\"xrange\",x[-1], x[0])\n",
    "        N = math.ceil(len(x)//2)\n",
    "\n",
    "        for i in range(len(x)-N):\n",
    "            w = x[i+N-1] - x[i]\n",
    "            if w < wmin:\n",
    "                wmin = w\n",
    "                j = i\n",
    "\n",
    "        return pymode(x[j:j+N-1])"
   ]
  },
  {
   "cell_type": "code",
   "execution_count": 5,
   "id": "a336e120-7dfd-4543-aa2b-e38cdaf8d136",
   "metadata": {},
   "outputs": [],
   "source": [
    "def sample(n):\n",
    "    w = np.random.uniform(0,1,n) > 0.5\n",
    "    \n",
    "    data1 = np.random.normal(0,5,n)\n",
    "    data2 = np.random.normal(4,2,n)\n",
    "    \n",
    "    return np.concatenate([data1[w], data2[~w]])"
   ]
  },
  {
   "cell_type": "code",
   "execution_count": 6,
   "id": "c198ac90-a502-4d0c-bd0a-e9e69c8a1331",
   "metadata": {},
   "outputs": [],
   "source": [
    "data = np.sort(sample(10000))"
   ]
  },
  {
   "cell_type": "code",
   "execution_count": 7,
   "id": "f4b3ad5d-dca1-49f6-b6ad-92eedf589356",
   "metadata": {},
   "outputs": [],
   "source": [
    "import timeit"
   ]
  },
  {
   "cell_type": "code",
   "execution_count": 17,
   "id": "ce36af52-16ad-4947-ac37-f396f6098a27",
   "metadata": {},
   "outputs": [
    {
     "data": {
      "text/plain": [
       "(0.9494383660021413, 9.494383660021412e-06)"
      ]
     },
     "execution_count": 17,
     "metadata": {},
     "output_type": "execute_result"
    }
   ],
   "source": [
    "n = 100000\n",
    "time_cxx = timeit.timeit(\"cxxmode(data, is_sorted=True)\", globals=globals(), number=n)\n",
    "time_cxx, time_cxx / n"
   ]
  },
  {
   "cell_type": "code",
   "execution_count": 18,
   "id": "c3e1991a-e4d4-4500-ba2f-dbdea2b32f23",
   "metadata": {},
   "outputs": [],
   "source": [
    "time_cxx = time_cxx / n"
   ]
  },
  {
   "cell_type": "code",
   "execution_count": 19,
   "id": "c6e5b46e-f4c0-4d98-9ee6-33e63298a1d7",
   "metadata": {},
   "outputs": [
    {
     "data": {
      "text/plain": [
       "0.002271482599997398"
      ]
     },
     "execution_count": 19,
     "metadata": {},
     "output_type": "execute_result"
    }
   ],
   "source": [
    "n = 1000\n",
    "time_py = timeit.timeit(\"pymode(data)\", globals=globals(), number=n)/n\n",
    "time_py"
   ]
  },
  {
   "cell_type": "code",
   "execution_count": 20,
   "id": "f1e8c232-45b1-47a6-b990-d5ba73c283e7",
   "metadata": {},
   "outputs": [
    {
     "name": "stderr",
     "output_type": "stream",
     "text": [
      "/tmp/ipykernel_71148/1798550146.py:2: DeprecationWarning: `np.bool` is a deprecated alias for the builtin `bool`. To silence this warning, use `bool` by itself. Doing this will not modify any behavior and is safe. If you specifically wanted the numpy scalar type, use `np.bool_` here.\n",
      "Deprecated in NumPy 1.20; for more details and guidance: https://numpy.org/devdocs/release/1.20.0-notes.html#deprecations\n",
      "  mask = np.ones(len(data), dtype=np.bool)\n"
     ]
    },
    {
     "data": {
      "text/plain": [
       "0.0008940155519994732"
      ]
     },
     "execution_count": 20,
     "metadata": {},
     "output_type": "execute_result"
    }
   ],
   "source": [
    "n = 1000\n",
    "time_histmode = timeit.timeit(\"histmode(data)\", globals=globals(), number=n) / n\n",
    "time_histmode"
   ]
  },
  {
   "cell_type": "code",
   "execution_count": 21,
   "id": "7e3949c3-5bf6-4d4d-b2c5-62bb5083c85d",
   "metadata": {},
   "outputs": [
    {
     "data": {
      "text/plain": [
       "239.24487163522477"
      ]
     },
     "execution_count": 21,
     "metadata": {},
     "output_type": "execute_result"
    }
   ],
   "source": [
    "time_py / time_cxx"
   ]
  },
  {
   "cell_type": "code",
   "execution_count": 22,
   "id": "8cb43092-e950-4c27-87a6-7b0851143aea",
   "metadata": {},
   "outputs": [
    {
     "data": {
      "text/plain": [
       "94.16256852606028"
      ]
     },
     "execution_count": 22,
     "metadata": {},
     "output_type": "execute_result"
    }
   ],
   "source": [
    "time_histmode / time_cxx"
   ]
  },
  {
   "cell_type": "code",
   "execution_count": 14,
   "id": "c3d4f614-b327-44a0-9a61-6b0c1f8ff46c",
   "metadata": {},
   "outputs": [],
   "source": [
    "def plot(data):\n",
    "    cxxmode = mode(data)\n",
    "    hwm = half_width_mode(data)\n",
    "    _ = plt.hist(data, bins=300)\n",
    "    plt.vlines([cxxmode], ymin=0, ymax=plt.gca().get_ylim()[1], color='black', label='cxx mode {:.6f}'.format(cxxmode))\n",
    "    plt.vlines([hwm], ymin=0, ymax=plt.gca().get_ylim()[1], color='red', label='half width mode {:.6f}'.format(hwm))\n",
    "    plt.legend()"
   ]
  },
  {
   "cell_type": "code",
   "execution_count": 15,
   "id": "638e3067-fe44-44e2-b618-0fc5e074f68b",
   "metadata": {},
   "outputs": [],
   "source": [
    "#plot(np.sort(sample(10000)))"
   ]
  },
  {
   "cell_type": "code",
   "execution_count": 16,
   "id": "6ec46c51-6f59-49f2-8401-b6545fe94b2d",
   "metadata": {},
   "outputs": [],
   "source": [
    "#plot(np.sort(np.random.normal(3.5, 2, 100000)))"
   ]
  },
  {
   "cell_type": "code",
   "execution_count": null,
   "id": "fd810344-c3ca-4f31-bd66-a5a96d81a401",
   "metadata": {},
   "outputs": [],
   "source": []
  }
 ],
 "metadata": {
  "kernelspec": {
   "display_name": "Python 3",
   "language": "python",
   "name": "python3"
  },
  "language_info": {
   "codemirror_mode": {
    "name": "ipython",
    "version": 3
   },
   "file_extension": ".py",
   "mimetype": "text/x-python",
   "name": "python",
   "nbconvert_exporter": "python",
   "pygments_lexer": "ipython3",
   "version": "3.11.2"
  }
 },
 "nbformat": 4,
 "nbformat_minor": 5
}
