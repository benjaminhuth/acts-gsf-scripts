{
 "cells": [
  {
   "cell_type": "code",
   "execution_count": 1,
   "id": "e559a639-0bf8-4434-827f-86e43a910dc4",
   "metadata": {},
   "outputs": [],
   "source": [
    "import pandas as pd\n",
    "import numpy as np\n",
    "import matplotlib.pyplot as plt"
   ]
  },
  {
   "cell_type": "code",
   "execution_count": 5,
   "id": "dbbbe525-28b3-47ad-88c6-a2237fdfdd11",
   "metadata": {},
   "outputs": [
    {
     "data": {
      "text/html": [
       "<div>\n",
       "<style scoped>\n",
       "    .dataframe tbody tr th:only-of-type {\n",
       "        vertical-align: middle;\n",
       "    }\n",
       "\n",
       "    .dataframe tbody tr th {\n",
       "        vertical-align: top;\n",
       "    }\n",
       "\n",
       "    .dataframe thead th {\n",
       "        text-align: right;\n",
       "    }\n",
       "</style>\n",
       "<table border=\"1\" class=\"dataframe\">\n",
       "  <thead>\n",
       "    <tr style=\"text-align: right;\">\n",
       "      <th></th>\n",
       "      <th>0</th>\n",
       "      <th>1</th>\n",
       "      <th>2</th>\n",
       "      <th>3</th>\n",
       "      <th>4</th>\n",
       "      <th>5</th>\n",
       "      <th>6</th>\n",
       "      <th>7</th>\n",
       "      <th>8</th>\n",
       "      <th>9</th>\n",
       "      <th>10</th>\n",
       "      <th>11</th>\n",
       "      <th>12</th>\n",
       "      <th>13</th>\n",
       "      <th>14</th>\n",
       "      <th>15</th>\n",
       "      <th>16</th>\n",
       "      <th>17</th>\n",
       "      <th>18</th>\n",
       "      <th>19</th>\n",
       "    </tr>\n",
       "  </thead>\n",
       "  <tbody>\n",
       "    <tr>\n",
       "      <th>0</th>\n",
       "      <td>09:49:05</td>\n",
       "      <td>NaN</td>\n",
       "      <td>NaN</td>\n",
       "      <td>NaN</td>\n",
       "      <td>TrackFitting</td>\n",
       "      <td>NaN</td>\n",
       "      <td>NaN</td>\n",
       "      <td>DEBUG</td>\n",
       "      <td>NaN</td>\n",
       "      <td>NaN</td>\n",
       "      <td>NaN</td>\n",
       "      <td>NaN</td>\n",
       "      <td>momentum</td>\n",
       "      <td>A:</td>\n",
       "      <td>3.97592,</td>\n",
       "      <td>momentum</td>\n",
       "      <td>B:</td>\n",
       "      <td>3.97592,</td>\n",
       "      <td>delta:</td>\n",
       "      <td>0.000000e+00</td>\n",
       "    </tr>\n",
       "    <tr>\n",
       "      <th>1</th>\n",
       "      <td>09:49:05</td>\n",
       "      <td>NaN</td>\n",
       "      <td>NaN</td>\n",
       "      <td>NaN</td>\n",
       "      <td>TrackFitting</td>\n",
       "      <td>NaN</td>\n",
       "      <td>NaN</td>\n",
       "      <td>DEBUG</td>\n",
       "      <td>NaN</td>\n",
       "      <td>NaN</td>\n",
       "      <td>NaN</td>\n",
       "      <td>NaN</td>\n",
       "      <td>momentum</td>\n",
       "      <td>A:</td>\n",
       "      <td>3.97255,</td>\n",
       "      <td>momentum</td>\n",
       "      <td>B:</td>\n",
       "      <td>3.97255,</td>\n",
       "      <td>delta:</td>\n",
       "      <td>-2.650620e-07</td>\n",
       "    </tr>\n",
       "    <tr>\n",
       "      <th>2</th>\n",
       "      <td>09:49:05</td>\n",
       "      <td>NaN</td>\n",
       "      <td>NaN</td>\n",
       "      <td>NaN</td>\n",
       "      <td>TrackFitting</td>\n",
       "      <td>NaN</td>\n",
       "      <td>NaN</td>\n",
       "      <td>DEBUG</td>\n",
       "      <td>NaN</td>\n",
       "      <td>NaN</td>\n",
       "      <td>NaN</td>\n",
       "      <td>NaN</td>\n",
       "      <td>momentum</td>\n",
       "      <td>A:</td>\n",
       "      <td>3.9686,</td>\n",
       "      <td>momentum</td>\n",
       "      <td>B:</td>\n",
       "      <td>3.9686,</td>\n",
       "      <td>delta:</td>\n",
       "      <td>-1.998170e-06</td>\n",
       "    </tr>\n",
       "    <tr>\n",
       "      <th>3</th>\n",
       "      <td>09:49:05</td>\n",
       "      <td>NaN</td>\n",
       "      <td>NaN</td>\n",
       "      <td>NaN</td>\n",
       "      <td>TrackFitting</td>\n",
       "      <td>NaN</td>\n",
       "      <td>NaN</td>\n",
       "      <td>DEBUG</td>\n",
       "      <td>NaN</td>\n",
       "      <td>NaN</td>\n",
       "      <td>NaN</td>\n",
       "      <td>NaN</td>\n",
       "      <td>momentum</td>\n",
       "      <td>A:</td>\n",
       "      <td>3.96547,</td>\n",
       "      <td>momentum</td>\n",
       "      <td>B:</td>\n",
       "      <td>3.96547,</td>\n",
       "      <td>delta:</td>\n",
       "      <td>-2.680830e-06</td>\n",
       "    </tr>\n",
       "  </tbody>\n",
       "</table>\n",
       "</div>"
      ],
      "text/plain": [
       "         0   1   2   3             4   5   6      7   8   9   10  11  \\\n",
       "0  09:49:05 NaN NaN NaN  TrackFitting NaN NaN  DEBUG NaN NaN NaN NaN   \n",
       "1  09:49:05 NaN NaN NaN  TrackFitting NaN NaN  DEBUG NaN NaN NaN NaN   \n",
       "2  09:49:05 NaN NaN NaN  TrackFitting NaN NaN  DEBUG NaN NaN NaN NaN   \n",
       "3  09:49:05 NaN NaN NaN  TrackFitting NaN NaN  DEBUG NaN NaN NaN NaN   \n",
       "\n",
       "         12  13        14        15  16        17      18            19  \n",
       "0  momentum  A:  3.97592,  momentum  B:  3.97592,  delta:  0.000000e+00  \n",
       "1  momentum  A:  3.97255,  momentum  B:  3.97255,  delta: -2.650620e-07  \n",
       "2  momentum  A:   3.9686,  momentum  B:   3.9686,  delta: -1.998170e-06  \n",
       "3  momentum  A:  3.96547,  momentum  B:  3.96547,  delta: -2.680830e-06  "
      ]
     },
     "execution_count": 5,
     "metadata": {},
     "output_type": "execute_result"
    }
   ],
   "source": [
    "a = pd.read_csv(\"../delta.txt\", sep=\" \", header=None)\n",
    "a.head(4)"
   ]
  },
  {
   "cell_type": "code",
   "execution_count": 8,
   "id": "6e614370-df75-4aa2-9115-a2c43c91f017",
   "metadata": {},
   "outputs": [
    {
     "data": {
      "text/plain": [
       "array([ 0.00000e+00, -2.65062e-07, -1.99817e-06, ..., -4.97273e-04,\n",
       "       -5.25378e-04, -4.92208e-06])"
      ]
     },
     "execution_count": 8,
     "metadata": {},
     "output_type": "execute_result"
    }
   ],
   "source": [
    "deltas = a[19].to_numpy()\n",
    "deltas"
   ]
  },
  {
   "cell_type": "code",
   "execution_count": 14,
   "id": "a93cff00-e14a-47cb-acc6-a1345e0642da",
   "metadata": {},
   "outputs": [
    {
     "data": {
      "image/png": "[encoded data removed]",
      "text/plain": [
       "<Figure size 640x480 with 1 Axes>"
      ]
     },
     "metadata": {},
     "output_type": "display_data"
    }
   ],
   "source": [
    "_ = plt.hist(deltas, bins=1000)\n",
    "plt.yscale('log')"
   ]
  },
  {
   "cell_type": "code",
   "execution_count": null,
   "id": "9539eb77-703f-4c96-a669-ed4f279eeddf",
   "metadata": {},
   "outputs": [],
   "source": []
  }
 ],
 "metadata": {
  "kernelspec": {
   "display_name": "Python 3 (ipykernel)",
   "language": "python",
   "name": "python3"
  },
  "language_info": {
   "codemirror_mode": {
    "name": "ipython",
    "version": 3
   },
   "file_extension": ".py",
   "mimetype": "text/x-python",
   "name": "python",
   "nbconvert_exporter": "python",
   "pygments_lexer": "ipython3",
   "version": "3.11.0"
  }
 },
 "nbformat": 4,
 "nbformat_minor": 5
}
