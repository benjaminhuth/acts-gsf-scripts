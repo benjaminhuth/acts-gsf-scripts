{
 "cells": [
  {
   "cell_type": "code",
   "execution_count": 1,
   "id": "f5bd3f37-02a2-4b2f-86e7-60f12860a1ea",
   "metadata": {},
   "outputs": [],
   "source": [
    "from gsfanalysis.pandas_import import uproot_to_pandas\n",
    "import uproot\n",
    "import matplotlib.pyplot as plt\n",
    "import numpy as np\n",
    "import pandas as pd\n",
    "\n",
    "from scipy.optimize import curve_fit"
   ]
  },
  {
   "cell_type": "code",
   "execution_count": 2,
   "id": "0d49bab9-127c-4a25-bd87-0a2c46933cae",
   "metadata": {},
   "outputs": [],
   "source": [
    "MeV = 1e-3"
   ]
  },
  {
   "cell_type": "code",
   "execution_count": 3,
   "id": "efe1c7f9-cbc6-4341-b455-37b2a45812c3",
   "metadata": {},
   "outputs": [
    {
     "data": {
      "text/plain": [
       "0.0005109989499999999"
      ]
     },
     "execution_count": 3,
     "metadata": {},
     "output_type": "execute_result"
    }
   ],
   "source": [
    "m_e = 0.51099895000 * MeV\n",
    "m_e"
   ]
  },
  {
   "cell_type": "code",
   "execution_count": 4,
   "id": "9bafd45e-0130-49a5-a054-bdb209fb3489",
   "metadata": {},
   "outputs": [],
   "source": [
    "tracksummary_gsf = uproot_to_pandas(uproot.open(\"../output_50K/tracksummary_gsf.root:tracksummary\"))\n",
    "tracksummary_kf = uproot_to_pandas(uproot.open(\"../output_50K/tracksummary_kf.root:tracksummary\"))"
   ]
  },
  {
   "cell_type": "code",
   "execution_count": 5,
   "id": "c317e42f-865d-430d-af50-d8f880de6986",
   "metadata": {},
   "outputs": [
    {
     "data": {
      "text/plain": [
       "Index(['event_nr', 'multiTraj_nr', 'nStates', 'nMeasurements', 'nOutliers',\n",
       "       'nHoles', 'nSharedHits', 'chi2Sum', 'NDF', 'nMajorityHits',\n",
       "       'majorityParticleId', 't_charge', 't_time', 't_vx', 't_vy', 't_vz',\n",
       "       't_px', 't_py', 't_pz', 't_theta', 't_phi', 't_eta', 't_p', 't_pT',\n",
       "       't_d0', 't_z0', 'hasFittedParams', 'eLOC0_fit', 'eLOC1_fit', 'ePHI_fit',\n",
       "       'eTHETA_fit', 'eQOP_fit', 'eT_fit', 'err_eLOC0_fit', 'err_eLOC1_fit',\n",
       "       'err_ePHI_fit', 'err_eTHETA_fit', 'err_eQOP_fit', 'err_eT_fit',\n",
       "       'res_eLOC0_fit', 'res_eLOC1_fit', 'res_ePHI_fit', 'res_eTHETA_fit',\n",
       "       'res_eQOP_fit', 'res_eT_fit', 'pull_eLOC0_fit', 'pull_eLOC1_fit',\n",
       "       'pull_ePHI_fit', 'pull_eTHETA_fit', 'pull_eQOP_fit', 'pull_eT_fit',\n",
       "       'res_eP_fit', 'res_ePNORM_fit'],\n",
       "      dtype='object')"
      ]
     },
     "execution_count": 5,
     "metadata": {},
     "output_type": "execute_result"
    }
   ],
   "source": [
    "tracksummary_gsf.keys()"
   ]
  },
  {
   "cell_type": "code",
   "execution_count": 6,
   "id": "bb9e20f7-1a6a-4006-95cc-150b02b74cec",
   "metadata": {},
   "outputs": [
    {
     "data": {
      "text/html": [
       "<div>\n",
       "<style scoped>\n",
       "    .dataframe tbody tr th:only-of-type {\n",
       "        vertical-align: middle;\n",
       "    }\n",
       "\n",
       "    .dataframe tbody tr th {\n",
       "        vertical-align: top;\n",
       "    }\n",
       "\n",
       "    .dataframe thead th {\n",
       "        text-align: right;\n",
       "    }\n",
       "</style>\n",
       "<table border=\"1\" class=\"dataframe\">\n",
       "  <thead>\n",
       "    <tr style=\"text-align: right;\">\n",
       "      <th></th>\n",
       "      <th>event_nr</th>\n",
       "      <th>multiTraj_nr</th>\n",
       "      <th>nStates</th>\n",
       "      <th>nMeasurements</th>\n",
       "      <th>nOutliers</th>\n",
       "      <th>nHoles</th>\n",
       "      <th>nSharedHits</th>\n",
       "      <th>chi2Sum</th>\n",
       "      <th>NDF</th>\n",
       "      <th>nMajorityHits</th>\n",
       "      <th>...</th>\n",
       "      <th>res_eQOP_fit</th>\n",
       "      <th>res_eT_fit</th>\n",
       "      <th>pull_eLOC0_fit</th>\n",
       "      <th>pull_eLOC1_fit</th>\n",
       "      <th>pull_ePHI_fit</th>\n",
       "      <th>pull_eTHETA_fit</th>\n",
       "      <th>pull_eQOP_fit</th>\n",
       "      <th>pull_eT_fit</th>\n",
       "      <th>res_eP_fit</th>\n",
       "      <th>res_ePNORM_fit</th>\n",
       "    </tr>\n",
       "  </thead>\n",
       "  <tbody>\n",
       "    <tr>\n",
       "      <th>0</th>\n",
       "      <td>1</td>\n",
       "      <td>0</td>\n",
       "      <td>24</td>\n",
       "      <td>10</td>\n",
       "      <td>1</td>\n",
       "      <td>0</td>\n",
       "      <td>0</td>\n",
       "      <td>240.539307</td>\n",
       "      <td>22</td>\n",
       "      <td>10</td>\n",
       "      <td>...</td>\n",
       "      <td>0.000179</td>\n",
       "      <td>0.546875</td>\n",
       "      <td>-1.480391</td>\n",
       "      <td>1.041173</td>\n",
       "      <td>0.722975</td>\n",
       "      <td>0.352464</td>\n",
       "      <td>0.118305</td>\n",
       "      <td>0.061872</td>\n",
       "      <td>2.367592</td>\n",
       "      <td>0.020391</td>\n",
       "    </tr>\n",
       "    <tr>\n",
       "      <th>1</th>\n",
       "      <td>3</td>\n",
       "      <td>0</td>\n",
       "      <td>17</td>\n",
       "      <td>8</td>\n",
       "      <td>0</td>\n",
       "      <td>0</td>\n",
       "      <td>0</td>\n",
       "      <td>43.651947</td>\n",
       "      <td>24</td>\n",
       "      <td>8</td>\n",
       "      <td>...</td>\n",
       "      <td>-0.001229</td>\n",
       "      <td>10.160156</td>\n",
       "      <td>0.884616</td>\n",
       "      <td>0.277786</td>\n",
       "      <td>-0.714331</td>\n",
       "      <td>0.374460</td>\n",
       "      <td>-0.728428</td>\n",
       "      <td>1.573814</td>\n",
       "      <td>117.471115</td>\n",
       "      <td>0.314590</td>\n",
       "    </tr>\n",
       "    <tr>\n",
       "      <th>2</th>\n",
       "      <td>3</td>\n",
       "      <td>1</td>\n",
       "      <td>28</td>\n",
       "      <td>13</td>\n",
       "      <td>0</td>\n",
       "      <td>0</td>\n",
       "      <td>0</td>\n",
       "      <td>177.572815</td>\n",
       "      <td>34</td>\n",
       "      <td>13</td>\n",
       "      <td>...</td>\n",
       "      <td>0.001023</td>\n",
       "      <td>7.980469</td>\n",
       "      <td>-2.555646</td>\n",
       "      <td>1.865310</td>\n",
       "      <td>1.746387</td>\n",
       "      <td>1.306515</td>\n",
       "      <td>0.807752</td>\n",
       "      <td>1.276857</td>\n",
       "      <td>80.555862</td>\n",
       "      <td>0.248795</td>\n",
       "    </tr>\n",
       "    <tr>\n",
       "      <th>3</th>\n",
       "      <td>4</td>\n",
       "      <td>0</td>\n",
       "      <td>26</td>\n",
       "      <td>14</td>\n",
       "      <td>0</td>\n",
       "      <td>0</td>\n",
       "      <td>0</td>\n",
       "      <td>485.035736</td>\n",
       "      <td>28</td>\n",
       "      <td>14</td>\n",
       "      <td>...</td>\n",
       "      <td>-0.003899</td>\n",
       "      <td>-6.281250</td>\n",
       "      <td>0.633549</td>\n",
       "      <td>-0.122862</td>\n",
       "      <td>-1.240334</td>\n",
       "      <td>0.227648</td>\n",
       "      <td>-0.968319</td>\n",
       "      <td>-0.710642</td>\n",
       "      <td>4.584229</td>\n",
       "      <td>0.125048</td>\n",
       "    </tr>\n",
       "    <tr>\n",
       "      <th>4</th>\n",
       "      <td>4</td>\n",
       "      <td>1</td>\n",
       "      <td>26</td>\n",
       "      <td>12</td>\n",
       "      <td>0</td>\n",
       "      <td>0</td>\n",
       "      <td>0</td>\n",
       "      <td>621.451355</td>\n",
       "      <td>24</td>\n",
       "      <td>12</td>\n",
       "      <td>...</td>\n",
       "      <td>0.007615</td>\n",
       "      <td>15.125000</td>\n",
       "      <td>-0.385600</td>\n",
       "      <td>0.163193</td>\n",
       "      <td>1.303280</td>\n",
       "      <td>0.527066</td>\n",
       "      <td>2.397023</td>\n",
       "      <td>1.711195</td>\n",
       "      <td>54.682346</td>\n",
       "      <td>0.469852</td>\n",
       "    </tr>\n",
       "  </tbody>\n",
       "</table>\n",
       "<p>5 rows × 53 columns</p>\n",
       "</div>"
      ],
      "text/plain": [
       "   event_nr  multiTraj_nr  nStates  nMeasurements  nOutliers  nHoles   \n",
       "0         1             0       24             10          1       0  \\\n",
       "1         3             0       17              8          0       0   \n",
       "2         3             1       28             13          0       0   \n",
       "3         4             0       26             14          0       0   \n",
       "4         4             1       26             12          0       0   \n",
       "\n",
       "   nSharedHits     chi2Sum  NDF  nMajorityHits  ...  res_eQOP_fit  res_eT_fit   \n",
       "0            0  240.539307   22             10  ...      0.000179    0.546875  \\\n",
       "1            0   43.651947   24              8  ...     -0.001229   10.160156   \n",
       "2            0  177.572815   34             13  ...      0.001023    7.980469   \n",
       "3            0  485.035736   28             14  ...     -0.003899   -6.281250   \n",
       "4            0  621.451355   24             12  ...      0.007615   15.125000   \n",
       "\n",
       "   pull_eLOC0_fit  pull_eLOC1_fit  pull_ePHI_fit  pull_eTHETA_fit   \n",
       "0       -1.480391        1.041173       0.722975         0.352464  \\\n",
       "1        0.884616        0.277786      -0.714331         0.374460   \n",
       "2       -2.555646        1.865310       1.746387         1.306515   \n",
       "3        0.633549       -0.122862      -1.240334         0.227648   \n",
       "4       -0.385600        0.163193       1.303280         0.527066   \n",
       "\n",
       "   pull_eQOP_fit  pull_eT_fit  res_eP_fit  res_ePNORM_fit  \n",
       "0       0.118305     0.061872    2.367592        0.020391  \n",
       "1      -0.728428     1.573814  117.471115        0.314590  \n",
       "2       0.807752     1.276857   80.555862        0.248795  \n",
       "3      -0.968319    -0.710642    4.584229        0.125048  \n",
       "4       2.397023     1.711195   54.682346        0.469852  \n",
       "\n",
       "[5 rows x 53 columns]"
      ]
     },
     "execution_count": 6,
     "metadata": {},
     "output_type": "execute_result"
    }
   ],
   "source": [
    "tracksummary_gsf.head(5)"
   ]
  },
  {
   "cell_type": "code",
   "execution_count": 7,
   "id": "b30b17ed-d956-47fa-8f86-ced5f6d780a5",
   "metadata": {},
   "outputs": [
    {
     "data": {
      "text/plain": [
       "((43308, 53), (44596, 53))"
      ]
     },
     "execution_count": 7,
     "metadata": {},
     "output_type": "execute_result"
    }
   ],
   "source": [
    "tracksummary_gsf.shape, tracksummary_kf.shape"
   ]
  },
  {
   "cell_type": "code",
   "execution_count": 8,
   "id": "08563daf-2865-4cab-8a2e-59118416ea18",
   "metadata": {
    "tags": []
   },
   "outputs": [
    {
     "data": {
      "text/plain": [
       "<BarContainer object of 6 artists>"
      ]
     },
     "execution_count": 8,
     "metadata": {},
     "output_type": "execute_result"
    },
    {
     "data": {
      "image/png": "[encoded data removed]",
      "text/plain": [
       "<Figure size 400x200 with 1 Axes>"
      ]
     },
     "metadata": {},
     "output_type": "display_data"
    }
   ],
   "source": [
    "plt.figure(figsize=(4,2))\n",
    "plt.bar(*np.unique(tracksummary_gsf.groupby(\"event_nr\").multiTraj_nr.count().to_numpy(), return_counts=True))"
   ]
  },
  {
   "cell_type": "code",
   "execution_count": 9,
   "id": "a6a52d1b-026c-4288-902d-da9c9a10c644",
   "metadata": {
    "tags": []
   },
   "outputs": [
    {
     "data": {
      "text/plain": [
       "((33876, 53), (35696, 53))"
      ]
     },
     "execution_count": 9,
     "metadata": {},
     "output_type": "execute_result"
    }
   ],
   "source": [
    "tracksummary_gsf = tracksummary_gsf.groupby(\"event_nr\").apply(lambda df: None if len(df) != 2 else df).reset_index(drop=True)\n",
    "tracksummary_kf = tracksummary_kf.groupby(\"event_nr\").apply(lambda df: None if len(df) != 2 else df).reset_index(drop=True)\n",
    "tracksummary_gsf.shape, tracksummary_kf.shape"
   ]
  },
  {
   "cell_type": "code",
   "execution_count": 10,
   "id": "d6fff9d0-1911-4830-ab3d-21c6b68185b6",
   "metadata": {
    "tags": []
   },
   "outputs": [
    {
     "data": {
      "text/plain": [
       "((32372, 53), (34174, 53))"
      ]
     },
     "execution_count": 10,
     "metadata": {},
     "output_type": "execute_result"
    }
   ],
   "source": [
    "tracksummary_gsf = tracksummary_gsf.groupby(\"event_nr\").apply(lambda df: None if any(df.t_pT < 10) else df).reset_index(drop=True)\n",
    "tracksummary_kf = tracksummary_kf.groupby(\"event_nr\").apply(lambda df: None if any(df.t_pT < 10) else df).reset_index(drop=True)\n",
    "tracksummary_gsf.shape, tracksummary_kf.shape"
   ]
  },
  {
   "cell_type": "code",
   "execution_count": 11,
   "id": "d1cb9176-b136-4274-a8d1-0719f670a152",
   "metadata": {},
   "outputs": [
    {
     "data": {
      "text/plain": [
       "((32284, 53), (32284, 53))"
      ]
     },
     "execution_count": 11,
     "metadata": {},
     "output_type": "execute_result"
    }
   ],
   "source": [
    "tracksummary_gsf = tracksummary_gsf.set_index([\"event_nr\", \"multiTraj_nr\"]).copy()\n",
    "tracksummary_kf = tracksummary_kf.set_index([\"event_nr\", \"multiTraj_nr\"]).copy()\n",
    "\n",
    "unified_index = tracksummary_gsf.index.intersection(tracksummary_kf.index)\n",
    "\n",
    "tracksummary_gsf = tracksummary_gsf.loc[unified_index, :].reset_index(drop=False).copy()\n",
    "tracksummary_kf = tracksummary_kf.loc[unified_index, :].reset_index(drop=False).copy()\n",
    "tracksummary_gsf.shape, tracksummary_kf.shape"
   ]
  },
  {
   "cell_type": "code",
   "execution_count": 12,
   "id": "397720cd-4cb4-419d-8655-592e2cc46993",
   "metadata": {
    "tags": []
   },
   "outputs": [
    {
     "data": {
      "image/png": "[encoded data removed]",
      "text/plain": [
       "<Figure size 1000x300 with 1 Axes>"
      ]
     },
     "metadata": {},
     "output_type": "display_data"
    }
   ],
   "source": [
    "plt.figure(figsize=(10,3))\n",
    "_ = plt.hist(tracksummary_gsf.t_pT, bins=100, range=(9,150))\n",
    "_ = plt.xscale('log')\n",
    "_ = plt.title(\"pT spectrum of electrons\")"
   ]
  },
  {
   "cell_type": "code",
   "execution_count": 13,
   "id": "a2ea11ad-fad3-48ac-8e48-b5baa7ed6a4d",
   "metadata": {
    "tags": []
   },
   "outputs": [
    {
     "data": {
      "image/png": "[encoded data removed]",
      "text/plain": [
       "<Figure size 640x480 with 1 Axes>"
      ]
     },
     "metadata": {},
     "output_type": "display_data"
    }
   ],
   "source": [
    "def f(df, shift):\n",
    "    counts, vals = np.unique(df.groupby(\"event_nr\").apply(lambda d: min(d.nMeasurements)), return_counts=True)\n",
    "    return counts + shift, vals\n",
    "\n",
    "_ = plt.bar(*f(tracksummary_gsf, 0.2), width=0.4, label=\"GSF\")\n",
    "_ = plt.bar(*f(tracksummary_kf, -0.2), width=0.4, label=\"KF\")\n",
    "_ = plt.xticks(np.arange(1,18))\n",
    "_ = plt.legend()"
   ]
  },
  {
   "cell_type": "code",
   "execution_count": 14,
   "id": "66a6aec6-ebe2-4162-9df5-eeec0bff8c7d",
   "metadata": {
    "tags": []
   },
   "outputs": [],
   "source": [
    "#tracksummary_gsf = tracksummary_gsf.groupby(\"event_nr\").apply(lambda df: None if min(df.nMeasurements) < 9 else df).reset_index(drop=True)\n",
    "#tracksummary_kf = tracksummary_kfnMeasurements.groupby(\"event_nr\").apply(lambda df: None if min(df.nMeasurements) < 9 else df).reset_index(drop=True)"
   ]
  },
  {
   "cell_type": "code",
   "execution_count": 15,
   "id": "68ad9e20-be01-4913-9726-da5f8f949ea8",
   "metadata": {},
   "outputs": [],
   "source": [
    "def add_to_df(df):\n",
    "    df[\"t_E\"] = np.hypot(df.t_p, m_e)\n",
    "    df[\"eP_fit\"] = abs(1./df.eQOP_fit)\n",
    "    df[\"eE_fit\"] = np.hypot(df.eP_fit, m_e)\n",
    "    df[\"pT_fit\"] = df.eP_fit * np.sin(df.eTHETA_fit)\n",
    "    df[\"pz_fit\"] = df.eP_fit * np.cos(df.eTHETA_fit)\n",
    "    df[\"px_fit\"] = df.pT_fit * np.cos(df.ePHI_fit)\n",
    "    df[\"py_fit\"] = df.pT_fit * np.sin(df.ePHI_fit)\n",
    "    return df"
   ]
  },
  {
   "cell_type": "code",
   "execution_count": 16,
   "id": "f0a3b8fd-1f6d-4c07-bad2-5ff6e60acc50",
   "metadata": {},
   "outputs": [],
   "source": [
    "tracksummary_gsf = add_to_df(tracksummary_gsf)\n",
    "tracksummary_kf = add_to_df(tracksummary_kf)"
   ]
  },
  {
   "cell_type": "code",
   "execution_count": 17,
   "id": "ee163df5-2b14-4408-96e5-3ce36ef7a67f",
   "metadata": {},
   "outputs": [
    {
     "data": {
      "image/png": "[encoded data removed]",
      "text/plain": [
       "<Figure size 640x480 with 1 Axes>"
      ]
     },
     "metadata": {},
     "output_type": "display_data"
    }
   ],
   "source": [
    "def cut(fit, true):\n",
    "    l = (fit - true) / true\n",
    "    return l[ abs(l) < 1 ]\n",
    "\n",
    "_, bins, _ = plt.hist(cut(tracksummary_gsf.eP_fit, tracksummary_gsf.t_p), bins=\"rice\", alpha=0.3, label=\"gsf\")\n",
    "_ = plt.hist(cut(tracksummary_kf.eP_fit, tracksummary_kf.t_p), bins=bins, alpha=0.3, label=\"kf\")\n",
    "plt.legend()\n",
    "_ = plt.title(\"(p_fit - p_true) / p_true\")"
   ]
  },
  {
   "cell_type": "code",
   "execution_count": 18,
   "id": "20162da5-37cb-47bd-9333-c36d08df52c3",
   "metadata": {},
   "outputs": [],
   "source": [
    "class Z0MassComputerHelper:\n",
    "    def __init__(self, np_module):\n",
    "        self.np = np_module\n",
    "\n",
    "    def make_p_and_E(self, qop, theta, phi, m):\n",
    "        p = abs(1./qop)\n",
    "        pT = p*self.np.sin(theta)\n",
    "        pz = p*self.np.cos(theta)\n",
    "    \n",
    "        px = pT*self.np.cos(phi)\n",
    "        py = pT*self.np.sin(phi)\n",
    "    \n",
    "        E = self.np.sqrt(px**2 + py**2 + pz**2 + m**2)\n",
    "    \n",
    "        return self.np.array([px, py, pz]), E\n",
    "    \n",
    "    def __call__(self, x):\n",
    "        qop_a, theta_a, phi_a = x[:3]\n",
    "        qop_b, theta_b, phi_b = x[3:]\n",
    "    \n",
    "        p_a, E_a = self.make_p_and_E(qop_a, theta_a, phi_a, m_e)\n",
    "        p_b, E_b = self.make_p_and_E(qop_b, theta_b, phi_b, m_e)\n",
    "    \n",
    "        E_a = self.np.sqrt(p_a.dot(p_a) + m_e**2)\n",
    "        E_b = self.np.sqrt(p_b.dot(p_b) + m_e**2)\n",
    "    \n",
    "        p = p_a + p_b\n",
    "        E = E_a + E_b\n",
    "        \n",
    "        return self.np.sqrt(E**2 - p.dot(p))\n",
    "\n",
    "\n",
    "def z0_mass_callback_true(df):\n",
    "    if df.shape[0] != 2:\n",
    "        return \n",
    "\n",
    "    keys = [\"t_px\", \"t_py\", \"t_pz\"]\n",
    "\n",
    "    p_a = df[keys].to_numpy()[0]\n",
    "    p_b = df[keys].to_numpy()[1]\n",
    "\n",
    "    E_a = np.sqrt(p_a.dot(p_a) + m_e**2)\n",
    "    E_b = np.sqrt(p_b.dot(p_b) + m_e**2)\n",
    "\n",
    "    E = E_a + E_b\n",
    "    p = p_a + p_b\n",
    "    \n",
    "    return np.sqrt(E**2 - p.dot(p))\n",
    "\n",
    "\n",
    "class Z0MassCallback:\n",
    "    def __init__(self):\n",
    "        #jax_compute_helper = Z0MassComputerHelper(jnp)\n",
    "        #self.jac = jacfwd(jax_compute_helper)\n",
    "\n",
    "        self.compute_z0_mass = Z0MassComputerHelper(np)\n",
    "        \n",
    "    def __call__(self, df):\n",
    "        if df.shape[0] != 2:\n",
    "            return \n",
    "    \n",
    "        keys = ['eQOP_fit', 'eTHETA_fit', 'ePHI_fit',]\n",
    "        #err_keys = ['err_eQOP_fit','err_eTHETA_fit', 'err_ePHI_fit']\n",
    "        err_keys = ['res_eQOP_fit','res_eTHETA_fit', 'res_ePHI_fit']\n",
    "    \n",
    "        x = np.concatenate([df[keys].to_numpy()[0], df[keys].to_numpy()[1]])\n",
    "        dx = abs(np.concatenate([df[err_keys].to_numpy()[0], df[err_keys].to_numpy()[1]]))\n",
    "        \n",
    "        mass = self.compute_z0_mass(x)\n",
    "        #mass_err = np.sqrt(np.sum(np.power(self.jac(x)*dx,2)))\n",
    "        mass_true = z0_mass_callback_true(df)\n",
    "        \n",
    "        return pd.DataFrame({\n",
    "            \"mass_fit\": [mass],\n",
    "            #\"mass_err\": [mass_err],\n",
    "            \"mass_true\": [mass_true]\n",
    "        })"
   ]
  },
  {
   "cell_type": "code",
   "execution_count": 19,
   "id": "c9094f49-f927-4561-aada-a87381793541",
   "metadata": {},
   "outputs": [],
   "source": [
    "z0_masses_gsf = tracksummary_gsf.groupby(\"event_nr\").apply(Z0MassCallback())\n",
    "z0_masses_gsf = z0_masses_gsf[ ~np.isnan(z0_masses_gsf) ]\n",
    "z0_masses_gsf[\"mass_res\"] = z0_masses_gsf.mass_fit - z0_masses_gsf.mass_true"
   ]
  },
  {
   "cell_type": "code",
   "execution_count": 20,
   "id": "b3148315-6314-4d01-8136-ec43ca8c53e4",
   "metadata": {},
   "outputs": [],
   "source": [
    "z0_masses_kf = tracksummary_kf.groupby(\"event_nr\").apply(Z0MassCallback())\n",
    "z0_masses_kf = z0_masses_kf[ ~np.isnan(z0_masses_kf) ]\n",
    "z0_masses_kf[\"mass_res\"] = z0_masses_kf.mass_fit - z0_masses_kf.mass_true"
   ]
  },
  {
   "cell_type": "code",
   "execution_count": 21,
   "id": "c2b240d7-eb9c-4511-9a8c-21fc68deebc9",
   "metadata": {},
   "outputs": [],
   "source": [
    "def relativistic_breit_wigner(x, resonance_mass, width, normalization):\n",
    "    gamma = np.sqrt(resonance_mass ** 2 * (resonance_mass ** 2 + width ** 2))\n",
    "    k = 2.0 * np.sqrt(2) * resonance_mass * width * gamma / (np.pi * np.sqrt(resonance_mass ** 2 + gamma))\n",
    "    return normalization * k / ((x ** 2 - resonance_mass ** 2) ** 2 + resonance_mass ** 2 * width ** 2)"
   ]
  },
  {
   "cell_type": "code",
   "execution_count": 22,
   "id": "ff40ff5f-1667-490a-afb2-9c4dd6c7cc06",
   "metadata": {},
   "outputs": [],
   "source": [
    "def fit_relativistic_breit_wigner_distribution(masses, p_start=[90, 10, 1000]):\n",
    "    bin_contents, bin_edges = np.histogram(masses, bins=30, range=(60, 125))\n",
    "    bin_centers = (bin_edges[:-1] + bin_edges[1:]) / 2.0\n",
    "    popt, pcov = curve_fit(\n",
    "        f=relativistic_breit_wigner,\n",
    "        xdata=bin_centers,\n",
    "        ydata=bin_contents,\n",
    "        p0=p_start,\n",
    "        sigma=np.sqrt(bin_contents)\n",
    "    )\n",
    "\n",
    "    return popt"
   ]
  },
  {
   "cell_type": "code",
   "execution_count": 23,
   "id": "09155964-15bb-432a-9a66-b4c5738e5d22",
   "metadata": {},
   "outputs": [],
   "source": [
    "np.set_printoptions(suppress=True)"
   ]
  },
  {
   "cell_type": "code",
   "execution_count": 24,
   "id": "ebdc00ed-2dce-4202-8021-26118054ef0c",
   "metadata": {},
   "outputs": [
    {
     "data": {
      "text/plain": [
       "(85.4989819597124, 42.62159020599873)"
      ]
     },
     "execution_count": 24,
     "metadata": {},
     "output_type": "execute_result"
    }
   ],
   "source": [
    "np.mean(z0_masses_gsf.mass_fit), np.std(z0_masses_gsf.mass_fit)"
   ]
  },
  {
   "cell_type": "code",
   "execution_count": 25,
   "id": "f701cf4d-689a-4d90-af7e-8525029669ed",
   "metadata": {},
   "outputs": [
    {
     "data": {
      "text/plain": [
       "array([   89.28814559,    21.35168305, 33177.52184411])"
      ]
     },
     "execution_count": 25,
     "metadata": {},
     "output_type": "execute_result"
    }
   ],
   "source": [
    "gsf_optimized_pars = fit_relativistic_breit_wigner_distribution(z0_masses_gsf.mass_fit.to_numpy())\n",
    "gsf_optimized_pars"
   ]
  },
  {
   "cell_type": "code",
   "execution_count": 26,
   "id": "913011a9-afb9-4100-a151-d866ba1bf3e8",
   "metadata": {},
   "outputs": [
    {
     "data": {
      "text/plain": [
       "array([   81.55264025,    18.64666947, 23041.08851418])"
      ]
     },
     "execution_count": 26,
     "metadata": {},
     "output_type": "execute_result"
    }
   ],
   "source": [
    "kf_optimized_pars = fit_relativistic_breit_wigner_distribution(z0_masses_kf.mass_fit.to_numpy(), p_start=[100, 10, 1000])\n",
    "kf_optimized_pars"
   ]
  },
  {
   "cell_type": "code",
   "execution_count": 27,
   "id": "94992f6e-8e78-43b2-b8d0-b0ffa9c7f009",
   "metadata": {},
   "outputs": [
    {
     "data": {
      "text/plain": [
       "(67.5444802279304, 37.48290618976245)"
      ]
     },
     "execution_count": 27,
     "metadata": {},
     "output_type": "execute_result"
    }
   ],
   "source": [
    "np.mean(z0_masses_kf.mass_fit), np.std(z0_masses_kf.mass_fit)"
   ]
  },
  {
   "cell_type": "code",
   "execution_count": 28,
   "id": "b551157b-d6c2-46e3-90f2-9ed3cdb66ec7",
   "metadata": {},
   "outputs": [
    {
     "data": {
      "text/plain": [
       "array([   91.1257018 ,     2.89360047, 34482.78886984])"
      ]
     },
     "execution_count": 28,
     "metadata": {},
     "output_type": "execute_result"
    }
   ],
   "source": [
    "true_optimized_pars = fit_relativistic_breit_wigner_distribution(z0_masses_gsf.mass_true.to_numpy())\n",
    "true_optimized_pars"
   ]
  },
  {
   "cell_type": "code",
   "execution_count": 29,
   "id": "5821c6e4-7532-4659-aea8-0e570cc70bbe",
   "metadata": {},
   "outputs": [
    {
     "data": {
      "text/plain": [
       "(91.6921399443738, 12.575841417096992)"
      ]
     },
     "execution_count": 29,
     "metadata": {},
     "output_type": "execute_result"
    }
   ],
   "source": [
    "np.mean(z0_masses_gsf.mass_true), np.std(z0_masses_gsf.mass_true)"
   ]
  },
  {
   "cell_type": "code",
   "execution_count": 30,
   "id": "e1e40923-3fb2-49ad-9bf1-a5e704b48cc2",
   "metadata": {},
   "outputs": [
    {
     "data": {
      "image/png": "[encoded data removed]",
      "text/plain": [
       "<Figure size 640x480 with 1 Axes>"
      ]
     },
     "metadata": {},
     "output_type": "display_data"
    }
   ],
   "source": [
    "x = np.arange(0,140,0.1)\n",
    "bins=np.arange(0,140,1.5)\n",
    "\n",
    "plt.plot(x, relativistic_breit_wigner(x, *gsf_optimized_pars) / gsf_optimized_pars[2], label=f\"fit from GSF: {gsf_optimized_pars[0]:.2f} GeV\", color=\"tab:orange\")\n",
    "plt.plot(x, relativistic_breit_wigner(x, *kf_optimized_pars) / kf_optimized_pars[2], label=f\"fit from KF: {kf_optimized_pars[0]:.2f} GeV\", color=\"tab:blue\")\n",
    "#plt.plot(x, relativistic_breit_wigner(x, *true_optimized_pars) / true_optimized_pars[2], label=\"from true data\", color=\"tab:green\")\n",
    "plt.hist(z0_masses_gsf.mass_fit, bins=bins, alpha=0.3, color=\"tab:orange\", density=True)\n",
    "plt.hist(z0_masses_kf.mass_fit, bins=bins, alpha=0.3, color=\"tab:blue\", density=True)\n",
    "#plt.hist(z0_masses_gsf.mass_true, bins=bins, label=\"true\", alpha=0.3, color=\"tab:green\", density=True)\n",
    "\n",
    "Z0_width_lit = 2.4955\n",
    "Z0_mass_lit = 91.1876\n",
    "\n",
    "plt.vlines([gsf_optimized_pars[0], kf_optimized_pars[0]], ymin=0, ymax=0.04, color=[\"tab:orange\", \"tab:blue\"], ls=\":\")\n",
    "plt.vlines([91.1876], ymin=0, ymax=0.04, color=['black'], ls=\":\", label=\"PDG fit: 91.1876(21) GeV\")\n",
    "\n",
    "plt.title(\"$Z_0$ mass estimate with KF and GSF\")\n",
    "plt.xlabel(\"$Z_0$ invariant mass [GeV]\")\n",
    "plt.ylabel(\"normalized density\")\n",
    "\n",
    "plt.legend()\n",
    "plt.gcf().savefig(\"/home/benjamin/Desktop/z0_mass_estimate.png\")"
   ]
  },
  {
   "cell_type": "code",
   "execution_count": 31,
   "id": "adbcd174-b00f-4119-b403-ddb4d82fe826",
   "metadata": {
    "tags": []
   },
   "outputs": [],
   "source": [
    "def fit_with_root(masses, bins=20, valrange=(75, 125)):\n",
    "    import ROOT\n",
    "    bin_weights, bin_edges = np.histogramdd(masses, bins=bins, range=[valrange])\n",
    "    \n",
    "    #print(bin_weights.reshape(-1,1))\n",
    "    x = ROOT.RooRealVar(\"x\", \"x\", *valrange)\n",
    "    mean = ROOT.RooRealVar(\"mean\", \"mean\", 0, 150)\n",
    "    width = ROOT.RooRealVar(\"width\", \"width\", 0, 50)\n",
    "    sigma = ROOT.RooRealVar(\"sigma\", \"sigma\", 0, 10)\n",
    "    \n",
    "    datahist = ROOT.RooDataHist.from_numpy(bin_weights, [x], bins=bin_edges)\n",
    "    pdf = ROOT.RooVoigtian(\"pdf\", \"pdf\", x, mean, width, sigma)\n",
    "    \n",
    "    arglist = ROOT.RooLinkedList()\n",
    "    arglist.Add(ROOT.RooFit.Save(True))\n",
    "    arglist.Add(ROOT.RooFit.PrintLevel(-1))\n",
    "    \n",
    "    res = pdf.chi2FitTo(datahist, arglist)\n",
    "    \n",
    "    def make_val_err(r):\n",
    "        return (r.getValV(), r.getError())\n",
    "    \n",
    "    return {\n",
    "        \"Z0 mass\": make_val_err(res.floatParsFinal().at(0)),\n",
    "        \"Γ (width)\": make_val_err(res.floatParsFinal().at(1)),\n",
    "        \"sigma\": make_val_err(res.floatParsFinal().at(2)),\n",
    "    }"
   ]
  },
  {
   "cell_type": "code",
   "execution_count": 32,
   "id": "5ea7e8e3-5dc4-46b3-bacc-836798a3187c",
   "metadata": {
    "tags": []
   },
   "outputs": [
    {
     "name": "stdout",
     "output_type": "stream",
     "text": [
      "Welcome to JupyROOT 6.28/04\n",
      "[#1] INFO:NumericIntegration -- RooRealIntegral::init(pdf_Int[x]) using numeric integrator RooIntegrator1D to calculate Int(x)\n",
      "[#1] INFO:Minimization -- RooAbsMinimizerFcn::setOptimizeConst: activating const optimization\n"
     ]
    },
    {
     "data": {
      "text/plain": [
       "{'Z0 mass': (89.47322317544739, 0.11239495522633547),\n",
       " 'Γ (width)': (0.0032034949486497988, 9.865174990666752),\n",
       " 'sigma': (17.35197818601294, 0.2749863119517233)}"
      ]
     },
     "execution_count": 32,
     "metadata": {},
     "output_type": "execute_result"
    }
   ],
   "source": [
    "fit_with_root(z0_masses_gsf.mass_fit.to_numpy(), bins=30, valrange=(75,150))"
   ]
  },
  {
   "cell_type": "code",
   "execution_count": 33,
   "id": "ee206506-4375-42c6-ad17-471212c46a34",
   "metadata": {
    "tags": []
   },
   "outputs": [
    {
     "data": {
      "text/plain": [
       "{'Z0 mass': (84.80186257747245, 0.11900042266456268),\n",
       " 'Γ (width)': (5.428725831583917, 0.16648864024355525),\n",
       " 'sigma': (6.45450552528031, 0.3039043502212113)}"
      ]
     },
     "execution_count": 33,
     "metadata": {},
     "output_type": "execute_result"
    },
    {
     "name": "stdout",
     "output_type": "stream",
     "text": [
      "[#1] INFO:NumericIntegration -- RooRealIntegral::init(pdf_Int[x]) using numeric integrator RooIntegrator1D to calculate Int(x)\n",
      "[#1] INFO:Minimization -- RooAbsMinimizerFcn::setOptimizeConst: activating const optimization\n"
     ]
    }
   ],
   "source": [
    "fit_with_root(z0_masses_kf.mass_fit.to_numpy(), bins=20, valrange=(75,150))"
   ]
  },
  {
   "cell_type": "code",
   "execution_count": 34,
   "id": "b48952d6-0a5d-4cfa-b3a8-e43210c0fc10",
   "metadata": {
    "tags": []
   },
   "outputs": [
    {
     "data": {
      "text/plain": [
       "{'Z0 mass': (91.5257990188598, 0.0352126614874777),\n",
       " 'Γ (width)': (2.1696846481177765, 0.05226156189876452),\n",
       " 'sigma': (3.0151741607989364, 0.07000271776495803)}"
      ]
     },
     "execution_count": 34,
     "metadata": {},
     "output_type": "execute_result"
    },
    {
     "name": "stdout",
     "output_type": "stream",
     "text": [
      "[#1] INFO:NumericIntegration -- RooRealIntegral::init(pdf_Int[x]) using numeric integrator RooIntegrator1D to calculate Int(x)\n",
      "[#1] INFO:Minimization -- RooAbsMinimizerFcn::setOptimizeConst: activating const optimization\n"
     ]
    }
   ],
   "source": [
    "fit_with_root(z0_masses_kf.mass_true.to_numpy(), bins=20, valrange=(0,150))"
   ]
  },
  {
   "cell_type": "code",
   "execution_count": null,
   "id": "058a9f6f-3057-42f4-acb3-3935fb03cc47",
   "metadata": {},
   "outputs": [],
   "source": []
  }
 ],
 "metadata": {
  "kernelspec": {
   "display_name": "Python 3 (ipykernel)",
   "language": "python",
   "name": "python3"
  },
  "language_info": {
   "codemirror_mode": {
    "name": "ipython",
    "version": 3
   },
   "file_extension": ".py",
   "mimetype": "text/x-python",
   "name": "python",
   "nbconvert_exporter": "python",
   "pygments_lexer": "ipython3",
   "version": "3.11.4"
  }
 },
 "nbformat": 4,
 "nbformat_minor": 5
}
